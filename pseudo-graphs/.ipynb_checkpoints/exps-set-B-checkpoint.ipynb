{
 "metadata": {
  "name": ""
 },
 "nbformat": 3,
 "nbformat_minor": 0,
 "worksheets": [
  {
   "cells": [
    {
     "cell_type": "code",
     "collapsed": false,
     "input": [
      "import pandas as pd\n",
      "import random as rd\n",
      "DATAP=[16,32,64,128]\n",
      "OVERHEAD_MIN=1\n",
      "OVERHEAD_MAX=3\n",
      "MIN_EXEC=2\n",
      "MAX_EXEC=10\n",
      "MIN_DATA=1\n",
      "MAX_DATA=3\n",
      "%matplotlib"
     ],
     "language": "python",
     "metadata": {},
     "outputs": [
      {
       "output_type": "stream",
       "stream": "stdout",
       "text": [
        "Using matplotlib backend: TkAgg\n"
       ]
      }
     ],
     "prompt_number": 13
    },
    {
     "cell_type": "code",
     "collapsed": false,
     "input": [
      "# Prep Levenshtein data for SAL\n",
      "df1 = pd.DataFrame(columns=['pre-loop','simulation execution time (makefile)','analysis execution time (levenshtein distance)','data movement','overhead'])\n",
      "for p in DATAP:\n",
      "    df1.loc['{0}/{0}'.format(p)] = [rd.randint(MIN_EXEC,MAX_EXEC),\n",
      "                                    rd.randint(MIN_EXEC,MAX_EXEC),\n",
      "                                    rd.randint(MIN_EXEC,MAX_EXEC),\n",
      "                                    rd.randint(MIN_DATA,MAX_DATA),\n",
      "                                    rd.randint(OVERHEAD_MIN,OVERHEAD_MAX)]"
     ],
     "language": "python",
     "metadata": {},
     "outputs": [],
     "prompt_number": 14
    },
    {
     "cell_type": "code",
     "collapsed": false,
     "input": [],
     "language": "python",
     "metadata": {},
     "outputs": [],
     "prompt_number": 14
    },
    {
     "cell_type": "code",
     "collapsed": false,
     "input": [
      "# Prep Amber-CoCo data for SAL\n",
      "df2 = pd.DataFrame(columns=['pre-loop','simulation execution time (Amber)','analysis execution time (CoCo)','data movement','overhead'])\n",
      "for p in DATAP:\n",
      "    df2.loc['{0}/{0}'.format(p)] = [rd.randint(MIN_EXEC,MAX_EXEC),\n",
      "                                    rd.randint(MIN_EXEC,MAX_EXEC),\n",
      "                                    rd.randint(MIN_EXEC,MAX_EXEC),\n",
      "                                    rd.randint(MIN_DATA,MAX_DATA),\n",
      "                                    rd.randint(OVERHEAD_MIN,OVERHEAD_MAX)]\n",
      "#df3.plot(kind='bar',stacked=True)"
     ],
     "language": "python",
     "metadata": {},
     "outputs": [],
     "prompt_number": 15
    },
    {
     "cell_type": "code",
     "collapsed": false,
     "input": [
      "# Plot\n",
      "ax1 = df1.plot(kind='bar',stacked=True,title='Levenshtein Distance computation application implemented with the Simulation-Analysis-Loop pattern',\n",
      "               colors=['purple','blue','green','black','red'],ylim=(0,40))\n",
      "ax1.set_xlabel('Cores/Simulation instances (Number of analysis instances = 1)')\n",
      "ax1.set_ylabel('Time (seconds)')\n",
      "\n",
      "ax2 = df2.plot(kind='bar',stacked=True,title='Amber-CoCo MD application implemented with the Simulation-Analysis-Loop pattern',\n",
      "               colors=['purple','blue','green','black','red'],ylim=(0,40))\n",
      "ax2.set_xlabel('Cores/Simulation instances (Number of analysis instances = 1)')\n",
      "ax2.set_ylabel('Time (seconds)')"
     ],
     "language": "python",
     "metadata": {},
     "outputs": [
      {
       "metadata": {},
       "output_type": "pyout",
       "prompt_number": 16,
       "text": [
        "<matplotlib.text.Text at 0x7fbe3749abd0>"
       ]
      }
     ],
     "prompt_number": 16
    },
    {
     "cell_type": "code",
     "collapsed": false,
     "input": [],
     "language": "python",
     "metadata": {},
     "outputs": []
    }
   ],
   "metadata": {}
  }
 ]
}