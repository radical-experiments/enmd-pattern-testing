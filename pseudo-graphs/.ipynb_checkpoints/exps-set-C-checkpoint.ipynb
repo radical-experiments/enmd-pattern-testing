{
 "metadata": {
  "name": ""
 },
 "nbformat": 3,
 "nbformat_minor": 0,
 "worksheets": [
  {
   "cells": [
    {
     "cell_type": "code",
     "collapsed": false,
     "input": [
      "import pandas as pd\n",
      "import random as rd\n",
      "DATAP=[16,32,64,128,256,512,1024]\n",
      "OVERHEAD_MIN=10\n",
      "OVERHEAD_MAX=30\n",
      "SIM_TIME = 4000\n",
      "ANA_TIME = 400\n",
      "MIN_DATA=10\n",
      "MAX_DATA=30\n",
      "%matplotlib"
     ],
     "language": "python",
     "metadata": {},
     "outputs": [
      {
       "output_type": "stream",
       "stream": "stdout",
       "text": [
        "Using matplotlib backend: TkAgg\n"
       ]
      }
     ],
     "prompt_number": 5
    },
    {
     "cell_type": "code",
     "collapsed": false,
     "input": [
      "# Prep data for Strong Scaling for SAL\n",
      "df1 = pd.DataFrame(columns=['pre-loop','simulation execution time (GROMACS)','analysis execution time (LSDMap)','data movement','overhead'])\n",
      "i=0\n",
      "for p in DATAP:\n",
      "    df1.loc['{0}/10,000'.format(p)] = [70,\n",
      "                                    SIM_TIME/pow(1.5,i),\n",
      "                                    ANA_TIME/pow(1.5,i),\n",
      "                                    200,\n",
      "                                    100]\n",
      "    i+=1\n",
      "ax = df1.plot(kind='bar',stacked=True,title='GROMACS-LSDMap MD application implemented with Simulation-Analysis-Loop pattern (Fixed Total Problem Size - 10,000 simulations)',\n",
      "               colors=['purple','blue','green','black','red'])\n",
      "ax.set_xlabel('Cores/No. of simulations')\n",
      "ax.set_ylabel('Time (seconds)')"
     ],
     "language": "python",
     "metadata": {},
     "outputs": [
      {
       "metadata": {},
       "output_type": "pyout",
       "prompt_number": 10,
       "text": [
        "<matplotlib.text.Text at 0x7f4bf9363ed0>"
       ]
      }
     ],
     "prompt_number": 10
    },
    {
     "cell_type": "code",
     "collapsed": false,
     "input": [],
     "language": "python",
     "metadata": {},
     "outputs": [],
     "prompt_number": 14
    },
    {
     "cell_type": "code",
     "collapsed": false,
     "input": [
      "# Prep data for Weak Scaling for SAL\n",
      "df2 = pd.DataFrame(columns=['pre-loop','simulation execution time (GROMACS)','analysis execution time (LSDMap)','data movement','overhead'])\n",
      "i=0\n",
      "for p in DATAP:\n",
      "    df2.loc['{0}/{0}'.format(p)] = [5,\n",
      "                                    80,\n",
      "                                    20,\n",
      "                                    5,\n",
      "                                    5]\n",
      "ax = df2.plot(kind='bar',stacked=True,title='GROMACS-LSDMap MD application implemented with Simulation-Analysis-Loop pattern (Fixed Problem Size per Processor)',\n",
      "               colors=['purple','blue','green','black','red'],ylim=(0,200))\n",
      "ax.set_xlabel('Cores/No. of simulations')\n",
      "ax.set_ylabel('Time (seconds)')\n",
      "#df3.plot(kind='bar',stacked=True)"
     ],
     "language": "python",
     "metadata": {},
     "outputs": [
      {
       "metadata": {},
       "output_type": "pyout",
       "prompt_number": 13,
       "text": [
        "<matplotlib.text.Text at 0x7f4bf9995790>"
       ]
      }
     ],
     "prompt_number": 13
    },
    {
     "cell_type": "code",
     "collapsed": false,
     "input": [
      "# Plot\n",
      "ax1 = df1.plot(kind='bar',stacked=True,title='Levenshtein Distance computation application implemented with the Simulation-Analysis-Loop pattern',\n",
      "               colors=['purple','blue','green','black','red'],ylim=(0,40))\n",
      "ax1.set_xlabel('Cores/Simulation instances (Number of analysis instances = 1)')\n",
      "ax1.set_ylabel('Time (seconds)')\n",
      "\n",
      "ax2 = df2.plot(kind='bar',stacked=True,title='Amber-CoCo MD application implemented with the Simulation-Analysis-Loop pattern',\n",
      "               colors=['purple','blue','green','black','red'],ylim=(0,40))\n",
      "ax2.set_xlabel('Cores/Simulation instances (Number of analysis instances = 1)')\n",
      "ax2.set_ylabel('Time (seconds)')"
     ],
     "language": "python",
     "metadata": {},
     "outputs": [
      {
       "metadata": {},
       "output_type": "pyout",
       "prompt_number": 16,
       "text": [
        "<matplotlib.text.Text at 0x7fbe3749abd0>"
       ]
      }
     ],
     "prompt_number": 16
    },
    {
     "cell_type": "code",
     "collapsed": false,
     "input": [],
     "language": "python",
     "metadata": {},
     "outputs": []
    }
   ],
   "metadata": {}
  }
 ]
}