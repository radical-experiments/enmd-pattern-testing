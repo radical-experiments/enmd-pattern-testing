{
 "metadata": {
  "name": ""
 },
 "nbformat": 3,
 "nbformat_minor": 0,
 "worksheets": [
  {
   "cells": [
    {
     "cell_type": "code",
     "collapsed": false,
     "input": [
      "import pandas as pd\n",
      "import random as rd\n",
      "DATAP=[16,32,64,128]\n",
      "OVERHEAD_MIN=1\n",
      "OVERHEAD_MAX=3\n",
      "MIN_EXEC=2\n",
      "MAX_EXEC=10\n",
      "MIN_DATA=1\n",
      "MAX_DATA=3\n",
      "%matplotlib"
     ],
     "language": "python",
     "metadata": {},
     "outputs": [
      {
       "output_type": "stream",
       "stream": "stdout",
       "text": [
        "Using matplotlib backend: TkAgg\n"
       ]
      }
     ],
     "prompt_number": 64
    },
    {
     "cell_type": "code",
     "collapsed": false,
     "input": [
      "# Prep data for Pipeline\n",
      "df1 = pd.DataFrame(columns=['step-1 execution time','step-2 execution time','data movement','overhead'])\n",
      "for p in DATAP:\n",
      "    df1.loc['{0}/{0}'.format(p)]=[rd.randint(MIN_EXEC,MAX_EXEC),\n",
      "                      rd.randint(MIN_EXEC,MAX_EXEC),\n",
      "                      rd.randint(MIN_DATA,MAX_DATA),\n",
      "                      rd.randint(OVERHEAD_MIN,OVERHEAD_MAX)]\n",
      "#df1.plot(kind='bar',stacked=True)"
     ],
     "language": "python",
     "metadata": {},
     "outputs": [],
     "prompt_number": 65
    },
    {
     "cell_type": "code",
     "collapsed": false,
     "input": [
      "# Prep data for Repex\n",
      "df2 = pd.DataFrame(columns=['MD-run execution time','exchange execution time','data movement','overhead'])\n",
      "for p in DATAP:\n",
      "    df2.loc['{0}/{0}'.format(p)] = [rd.randint(MIN_EXEC,MAX_EXEC),\n",
      "                                    rd.randint(MIN_EXEC,MAX_EXEC),\n",
      "                                    rd.randint(MIN_DATA,MAX_DATA),\n",
      "                                    rd.randint(OVERHEAD_MIN,OVERHEAD_MAX)]\n",
      "#df2.plot(kind='bar',stacked=True)"
     ],
     "language": "python",
     "metadata": {},
     "outputs": [],
     "prompt_number": 66
    },
    {
     "cell_type": "code",
     "collapsed": false,
     "input": [
      "# Prep data for SAL\n",
      "df3 = pd.DataFrame(columns=['pre-loop execution time','simulation execution time','analysis execution time','data movement','overhead'])\n",
      "for p in DATAP:\n",
      "    df3.loc['{0}/{0}'.format(p)] = [rd.randint(MIN_EXEC,MAX_EXEC),\n",
      "                                    rd.randint(MIN_EXEC,MAX_EXEC),\n",
      "                                    rd.randint(MIN_EXEC,MAX_EXEC),\n",
      "                                    rd.randint(MIN_DATA,MAX_DATA),\n",
      "                                    rd.randint(OVERHEAD_MIN,OVERHEAD_MAX)]\n",
      "#df3.plot(kind='bar',stacked=True)"
     ],
     "language": "python",
     "metadata": {},
     "outputs": [],
     "prompt_number": 67
    },
    {
     "cell_type": "code",
     "collapsed": false,
     "input": [
      "# Plot\n",
      "ax1 = df1.plot(kind='bar',stacked=True,title='Makefile and character count application implemented with the Pipeline pattern',\n",
      "               colors=['blue','green','black','red'],ylim=(0,30))\n",
      "ax1.set_xlabel('Cores/Bag Size (Number of steps = 2)')\n",
      "ax1.set_ylabel('Time (seconds)')\n",
      "\n",
      "ax2 = df2.plot(kind='bar',stacked=True,title='Makefile and character count application implemented with the Replice Exchange pattern',\n",
      "               colors=['blue','green','black','red'],ylim=(0,30))\n",
      "ax2.set_xlabel('Cores/Simulation instances (Number of exchanges = 1)')\n",
      "ax2.set_ylabel('Time (seconds)')\n",
      "\n",
      "ax3 = df3.plot(kind='bar',stacked=True,title='Makefile and character count application implemented with the Simulation-Analysis-Loop pattern',\n",
      "               colors=['purple','blue','green','black','red'],ylim=(0,40))\n",
      "ax3.set_xlabel('Cores/Simulation instances (Number of analysis instances = 1)')\n",
      "ax3.set_ylabel('Time (seconds)')\n"
     ],
     "language": "python",
     "metadata": {},
     "outputs": [
      {
       "metadata": {},
       "output_type": "pyout",
       "prompt_number": 69,
       "text": [
        "<matplotlib.text.Text at 0x7f5bea522dd0>"
       ]
      }
     ],
     "prompt_number": 69
    },
    {
     "cell_type": "code",
     "collapsed": false,
     "input": [],
     "language": "python",
     "metadata": {},
     "outputs": []
    }
   ],
   "metadata": {}
  }
 ]
}