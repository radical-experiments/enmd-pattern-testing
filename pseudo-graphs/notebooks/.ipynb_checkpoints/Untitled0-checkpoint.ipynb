{
 "metadata": {
  "name": ""
 },
 "nbformat": 3,
 "nbformat_minor": 0,
 "worksheets": [
  {
   "cells": [
    {
     "cell_type": "code",
     "collapsed": false,
     "input": [
      "import pandas as pd\n",
      "import random as rd\n",
      "import matplotlib.pyplot as plt\n",
      "DATAP=[16,32,64,128,256,512,1024]\n",
      "OVERHEAD_MIN=10\n",
      "OVERHEAD_MAX=30\n",
      "SIM_TIME = 4000\n",
      "ANA_TIME = 400\n",
      "MIN_DATA=10\n",
      "MAX_DATA=30\n",
      "%matplotlib"
     ],
     "language": "python",
     "metadata": {},
     "outputs": [
      {
       "output_type": "stream",
       "stream": "stdout",
       "text": [
        "Using matplotlib backend: TkAgg\n"
       ]
      }
     ],
     "prompt_number": 10
    },
    {
     "cell_type": "code",
     "collapsed": false,
     "input": [
      "# Prep data for Weak Scaling for SAL\n",
      "df1 = pd.DataFrame(columns=['execution time','data movement'])\n",
      "df2 = pd.DataFrame(columns=['EnMD Pattern overhead','EnMD Core overhead','RP overhead'])\n",
      "i=0\n",
      "for p in DATAP:\n",
      "    df1.loc['{0}/{0}'.format(p)] = [80,\n",
      "                                    20]\n",
      "    df2.loc['{0}/{0}'.format(p)] = [6,2,5]\n",
      "    \n",
      "fig, axes = plt.subplots(nrows=2, ncols=1)\n",
      "ax1 = df1.plot(ax=axes[0],kind='bar',stacked=True,title='GROMACS-LSDMap MD application implemented with Simulation-Analysis-Loop pattern (Fixed Problem Size per Processor)',\n",
      "               colors=['purple','blue','green','black','red'],ylim=(0,200),fontsize=22,rot=0)\n",
      "ax2 = df2.plot(ax=axes[1],kind='bar',stacked=True)\n",
      "ax2.set_xlabel('Cores/No. of simulations',fontsize=22)\n",
      "ax2.set_ylabel('Time (seconds)',fontsize=22)\n",
      "ax2.legend(fontsize=18)\n",
      "ax2.set_title(ax2.get_title(),fontsize=16)\n",
      "#df3.plot(kind='bar',stacked=True)"
     ],
     "language": "python",
     "metadata": {},
     "outputs": [
      {
       "metadata": {},
       "output_type": "pyout",
       "prompt_number": 11,
       "text": [
        "<matplotlib.text.Text at 0x7f20ad97d050>"
       ]
      }
     ],
     "prompt_number": 11
    },
    {
     "cell_type": "code",
     "collapsed": false,
     "input": [],
     "language": "python",
     "metadata": {},
     "outputs": []
    }
   ],
   "metadata": {}
  }
 ]
}