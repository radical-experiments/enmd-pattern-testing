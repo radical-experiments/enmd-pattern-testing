{
 "metadata": {
  "name": ""
 },
 "nbformat": 3,
 "nbformat_minor": 0,
 "worksheets": [
  {
   "cells": [
    {
     "cell_type": "code",
     "collapsed": false,
     "input": [
      "import pandas as pd\n",
      "import random as rd\n",
      "import matplotlib.pyplot as plt\n",
      "DATAP=[16,32,64,128,256,512,1024]\n",
      "%matplotlib"
     ],
     "language": "python",
     "metadata": {},
     "outputs": [
      {
       "output_type": "stream",
       "stream": "stdout",
       "text": [
        "Using matplotlib backend: TkAgg\n"
       ]
      }
     ],
     "prompt_number": 14
    },
    {
     "cell_type": "code",
     "collapsed": false,
     "input": [
      "# Prep data for Weak Scaling for SAL\n",
      "df1 = pd.DataFrame(columns=['execution time','data movement'])\n",
      "df2 = pd.DataFrame(columns=['EnMD Pattern overhead','EnMD Core overhead','RP overhead'])\n",
      "i=0\n",
      "for p in DATAP:\n",
      "    df1.loc['{0}/{0}'.format(p)] = [1200,\n",
      "                                    600]\n",
      "    df2.loc['{0}/{0}'.format(p)] = [60,20,50]\n",
      "    \n",
      "fig, axes = plt.subplots(nrows=2, ncols=1)\n",
      "ax1 = df1.plot(ax=axes[0],kind='bar',stacked=True,\n",
      "               title='Application: GROMACS-LSDMap MD application implemented with Simulation-Analysis-Loop pattern (Fixed Problem Size per Processor)',\n",
      "               colors=['purple','blue'],ylim=(0,2500),fontsize=14,rot=0)\n",
      "ax2 = df2.plot(ax=axes[1],kind='bar',stacked=True,\n",
      "               title='Overhead: GROMACS-LSDMap MD application implemented with Simulation-Analysis-Loop pattern (Fixed Problem Size per Processor)',\n",
      "               colors=['green','black','red'],ylim=(0,200),fontsize=14,rot=0)\n",
      "ax2.set_xlabel('Cores/No. of simulations',fontsize=14)\n",
      "ax2.set_ylabel('Time (seconds)',fontsize=14)\n",
      "ax2.legend(fontsize=14)\n",
      "ax2.set_title(ax2.get_title(),fontsize=14)\n",
      "ax1.set_xlabel('Cores/No. of simulations',fontsize=14)\n",
      "ax1.set_ylabel('Time (seconds)',fontsize=14)\n",
      "ax1.legend(fontsize=14)\n",
      "ax2.set_title(ax2.get_title(),fontsize=14)\n",
      "#df3.plot(kind='bar',stacked=True)"
     ],
     "language": "python",
     "metadata": {},
     "outputs": [
      {
       "metadata": {},
       "output_type": "pyout",
       "prompt_number": 17,
       "text": [
        "<matplotlib.text.Text at 0x7f20acc06050>"
       ]
      }
     ],
     "prompt_number": 17
    },
    {
     "cell_type": "code",
     "collapsed": false,
     "input": [],
     "language": "python",
     "metadata": {},
     "outputs": []
    }
   ],
   "metadata": {}
  }
 ]
}