{
 "metadata": {
  "name": ""
 },
 "nbformat": 3,
 "nbformat_minor": 0,
 "worksheets": [
  {
   "cells": [
    {
     "cell_type": "code",
     "collapsed": false,
     "input": [
      "import pandas as pd\n",
      "import random as rd\n",
      "DATAP=[16,32,64,128,256,512,1024]\n",
      "OVERHEAD_MIN=10\n",
      "OVERHEAD_MAX=30\n",
      "SIM_TIME = 4000\n",
      "ANA_TIME = 400\n",
      "MIN_DATA=10\n",
      "MAX_DATA=30\n",
      "%matplotlib"
     ],
     "language": "python",
     "metadata": {},
     "outputs": [
      {
       "output_type": "stream",
       "stream": "stdout",
       "text": [
        "Using matplotlib backend: TkAgg\n"
       ]
      }
     ],
     "prompt_number": 1
    },
    {
     "cell_type": "code",
     "collapsed": false,
     "input": [
      "# Prep data for Strong Scaling for SAL\n",
      "df1 = pd.DataFrame(columns=['pre-loop','simulation execution time (GROMACS)','analysis execution time (LSDMap)','data movement','overhead'])\n",
      "i=0\n",
      "for p in DATAP:\n",
      "    df1.loc['{0}/10K'.format(p)] = [70,\n",
      "                                    SIM_TIME/pow(1.5,i),\n",
      "                                    ANA_TIME/pow(1.5,i),\n",
      "                                    200,\n",
      "                                    100]\n",
      "    i+=1\n",
      "ax1 = df1.plot(kind='bar',stacked=True,title='GROMACS-LSDMap MD application implemented with Simulation-Analysis-Loop pattern (Fixed Total Problem Size - 10,000 simulations)',\n",
      "               colors=['purple','blue','green','black','red'],fontsize=22,rot=0)\n",
      "ax1.set_xlabel('Cores/No. of simulations',fontsize=22)\n",
      "ax1.set_ylabel('Time (seconds)',fontsize=22)\n",
      "ax1.legend(fontsize=18)\n",
      "ax1.set_title(ax1.get_title(),fontsize=16)"
     ],
     "language": "python",
     "metadata": {},
     "outputs": [
      {
       "output_type": "stream",
       "stream": "stderr",
       "text": [
        "/usr/local/lib/python2.7/dist-packages/pandas/tools/plotting.py:859: UserWarning: 'colors' is being deprecated. Please use 'color'instead of 'colors'\n",
        "  warnings.warn((\"'colors' is being deprecated. Please use 'color'\"\n"
       ]
      },
      {
       "metadata": {},
       "output_type": "pyout",
       "prompt_number": 2,
       "text": [
        "<matplotlib.text.Text at 0x7f48543feb90>"
       ]
      }
     ],
     "prompt_number": 2
    },
    {
     "cell_type": "code",
     "collapsed": false,
     "input": [],
     "language": "python",
     "metadata": {},
     "outputs": [],
     "prompt_number": 14
    },
    {
     "cell_type": "code",
     "collapsed": false,
     "input": [
      "# Prep data for Weak Scaling for SAL\n",
      "df2 = pd.DataFrame(columns=['pre-loop','simulation execution time (GROMACS)','analysis execution time (LSDMap)','data movement','overhead'])\n",
      "i=0\n",
      "for p in DATAP:\n",
      "    df2.loc['{0}/{0}'.format(p)] = [5,\n",
      "                                    80,\n",
      "                                    20,\n",
      "                                    5,\n",
      "                                    5]\n",
      "ax2 = df2.plot(kind='bar',stacked=True,title='GROMACS-LSDMap MD application implemented with Simulation-Analysis-Loop pattern (Fixed Problem Size per Processor)',\n",
      "               colors=['purple','blue','green','black','red'],ylim=(0,200),fontsize=22,rot=0,subplots=True)\n",
      "ax2.set_xlabel('Cores/No. of simulations',fontsize=22)\n",
      "ax2.set_ylabel('Time (seconds)',fontsize=22)\n",
      "ax2.legend(fontsize=18)\n",
      "ax2.set_title(ax2.get_title(),fontsize=16)\n",
      "#df3.plot(kind='bar',stacked=True)"
     ],
     "language": "python",
     "metadata": {},
     "outputs": [
      {
       "ename": "AttributeError",
       "evalue": "'numpy.ndarray' object has no attribute 'set_xlabel'",
       "output_type": "pyerr",
       "traceback": [
        "\u001b[0;31m---------------------------------------------------------------------------\u001b[0m\n\u001b[0;31mAttributeError\u001b[0m                            Traceback (most recent call last)",
        "\u001b[0;32m<ipython-input-3-57ce8814738d>\u001b[0m in \u001b[0;36m<module>\u001b[0;34m()\u001b[0m\n\u001b[1;32m     10\u001b[0m ax2 = df2.plot(kind='bar',stacked=True,title='GROMACS-LSDMap MD application implemented with Simulation-Analysis-Loop pattern (Fixed Problem Size per Processor)',\n\u001b[1;32m     11\u001b[0m                colors=['purple','blue','green','black','red'],ylim=(0,200),fontsize=22,rot=0,subplots=True)\n\u001b[0;32m---> 12\u001b[0;31m \u001b[0max2\u001b[0m\u001b[0;34m.\u001b[0m\u001b[0mset_xlabel\u001b[0m\u001b[0;34m(\u001b[0m\u001b[0;34m'Cores/No. of simulations'\u001b[0m\u001b[0;34m,\u001b[0m\u001b[0mfontsize\u001b[0m\u001b[0;34m=\u001b[0m\u001b[0;36m22\u001b[0m\u001b[0;34m)\u001b[0m\u001b[0;34m\u001b[0m\u001b[0m\n\u001b[0m\u001b[1;32m     13\u001b[0m \u001b[0max2\u001b[0m\u001b[0;34m.\u001b[0m\u001b[0mset_ylabel\u001b[0m\u001b[0;34m(\u001b[0m\u001b[0;34m'Time (seconds)'\u001b[0m\u001b[0;34m,\u001b[0m\u001b[0mfontsize\u001b[0m\u001b[0;34m=\u001b[0m\u001b[0;36m22\u001b[0m\u001b[0;34m)\u001b[0m\u001b[0;34m\u001b[0m\u001b[0m\n\u001b[1;32m     14\u001b[0m \u001b[0max2\u001b[0m\u001b[0;34m.\u001b[0m\u001b[0mlegend\u001b[0m\u001b[0;34m(\u001b[0m\u001b[0mfontsize\u001b[0m\u001b[0;34m=\u001b[0m\u001b[0;36m18\u001b[0m\u001b[0;34m)\u001b[0m\u001b[0;34m\u001b[0m\u001b[0m\n",
        "\u001b[0;31mAttributeError\u001b[0m: 'numpy.ndarray' object has no attribute 'set_xlabel'"
       ]
      }
     ],
     "prompt_number": 3
    },
    {
     "cell_type": "code",
     "collapsed": false,
     "input": [],
     "language": "python",
     "metadata": {},
     "outputs": [
      {
       "metadata": {},
       "output_type": "pyout",
       "prompt_number": 16,
       "text": [
        "<matplotlib.text.Text at 0x7fbe3749abd0>"
       ]
      }
     ],
     "prompt_number": 16
    },
    {
     "cell_type": "code",
     "collapsed": false,
     "input": [],
     "language": "python",
     "metadata": {},
     "outputs": []
    }
   ],
   "metadata": {}
  }
 ]
}