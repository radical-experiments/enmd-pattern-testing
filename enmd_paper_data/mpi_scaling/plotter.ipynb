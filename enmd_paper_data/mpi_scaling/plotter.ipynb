{
 "metadata": {
  "name": ""
 },
 "nbformat": 3,
 "nbformat_minor": 0,
 "worksheets": [
  {
   "cells": [
    {
     "cell_type": "code",
     "collapsed": false,
     "input": [
      "import pandas as pd\n",
      "import matplotlib.pyplot as plt\n",
      "import datetime\n",
      "import math\n",
      "import numpy as np\n",
      "import glob\n",
      "%matplotlib"
     ],
     "language": "python",
     "metadata": {},
     "outputs": [
      {
       "output_type": "stream",
       "stream": "stdout",
       "text": [
        "Using matplotlib backend: TkAgg\n"
       ]
      }
     ],
     "prompt_number": 1
    },
    {
     "cell_type": "code",
     "collapsed": false,
     "input": [
      "trials = 3\n",
      "cps = [1,16,32,64]\n",
      "cores = [64,1024,2048,4096]\n"
     ],
     "language": "python",
     "metadata": {},
     "outputs": [],
     "prompt_number": 19
    },
    {
     "cell_type": "code",
     "collapsed": false,
     "input": [
      "def extract_time_date(t1,t2,t3=None,t4=None):\n",
      "    \n",
      "    try:\n",
      "        t1 = datetime.datetime.strptime(t1, \"%Y-%m-%d %H:%M:%S.%f\")\n",
      "    except:\n",
      "        t1 = datetime.datetime.strptime(t1, \"%Y-%m-%d %H:%M:%S\")\n",
      "        \n",
      "    try:\n",
      "        t2  = datetime.datetime.strptime(t2, \"%Y-%m-%d %H:%M:%S.%f\")\n",
      "    except:\n",
      "        t2  = datetime.datetime.strptime(t2, \"%Y-%m-%d %H:%M:%S\")\n",
      "        \n",
      "    if t3 is not None:\n",
      "        \n",
      "        try:\n",
      "            t3   = datetime.datetime.strptime(t3, \"%Y-%m-%d %H:%M:%S.%f\")\n",
      "        except:\n",
      "            t3   = datetime.datetime.strptime(t3, \"%Y-%m-%d %H:%M:%S\")\n",
      "        \n",
      "        try:\n",
      "            t4  = datetime.datetime.strptime(t4, \"%Y-%m-%d %H:%M:%S.%f\")\n",
      "        except:\n",
      "            t4  = datetime.datetime.strptime(t4, \"%Y-%m-%d %H:%M:%S\")\n",
      "            \n",
      "            \n",
      "        return ((t2-t1)+(t4-t3)).total_seconds()\n",
      "    \n",
      "    else:\n",
      "        return (t2-t1).total_seconds()"
     ],
     "language": "python",
     "metadata": {},
     "outputs": [],
     "prompt_number": 3
    },
    {
     "cell_type": "code",
     "collapsed": false,
     "input": [
      "def extract_time(t1,t2,t3=None,t4=None):\n",
      "    if t3 is not None:\n",
      "        t1=int(t1)\n",
      "        t2=int(t2)\n",
      "        t3=int(t3)\n",
      "        t4=int(t4)\n",
      "        return ((t2-t1)+(t4-t3))\n",
      "    else:\n",
      "        t1=int(t1)\n",
      "        t2=int(t2)\n",
      "        return (t2-t1)"
     ],
     "language": "python",
     "metadata": {},
     "outputs": [],
     "prompt_number": 4
    },
    {
     "cell_type": "code",
     "collapsed": false,
     "input": [
      "def extract_timing_info(df,inst,cps):\n",
      "\n",
      "    preloop_exec,sim_exec,ana_exec = extract_exec_time(df,inst,cps)\n",
      "    return [preloop_exec,sim_exec,ana_exec]"
     ],
     "language": "python",
     "metadata": {},
     "outputs": [],
     "prompt_number": 5
    },
    {
     "cell_type": "code",
     "collapsed": false,
     "input": [
      "def extract_exec_time(df,inst,cps):\n",
      "    req_df = df[['step','Executing','AgentStagingOutputPending']]\n",
      "    \n",
      "    num_pre_loop = 0\n",
      "    num_sim = inst*2\n",
      "    num_cores = inst*cps\n",
      "    num_ana = (inst/64)*2\n",
      "    \n",
      "    total_size = num_pre_loop + num_sim + num_ana\n",
      "    \n",
      "    if (len(req_df)==total_size):\n",
      "        print 'Size comp correct'\n",
      "        \n",
      "    preloop_exec = 0\n",
      "    sim_exec = None\n",
      "    ana_exec = None\n",
      "\n",
      "    #Sim extraction\n",
      "    sim_df = req_df[:-num_ana]\n",
      "    per_unit_exec_time  = list()\n",
      "    for row in sim_df.iterrows():\n",
      "        step,t1,t2 = row[1:][0]\n",
      "        #print t1,t2,t3,t4\n",
      "        #print row\n",
      "        per_unit_exec_time.append(extract_time(t1,t2))\n",
      "        \n",
      "    kern_1 = per_unit_exec_time[:num_sim/2]\n",
      "    kern_2 = per_unit_exec_time[num_sim/2:]\n",
      "    sim_exec = (np.average(kern_1) + np.average(kern_2))\n",
      "    \n",
      "        \n",
      "    #Analysis extraction\n",
      "    ana_df = req_df[-num_ana:]\n",
      "    per_unit_exec_time  = list()\n",
      "    for row in ana_df.iterrows():\n",
      "        step,t1,t2 = row[1:][0]\n",
      "        #print t1,t2,t3,t4\n",
      "        #print row\n",
      "        per_unit_exec_time.append(extract_time(t1,t2))\n",
      "        \n",
      "        \n",
      "    kern_1 = per_unit_exec_time[:num_ana/2]\n",
      "    kern_2 = per_unit_exec_time[num_ana/2:]\n",
      "    ana_exec = (np.average(kern_1) + np.average(kern_2))\n",
      "    \n",
      "    \n",
      "    return preloop_exec, sim_exec, ana_exec"
     ],
     "language": "python",
     "metadata": {},
     "outputs": [],
     "prompt_number": 6
    },
    {
     "cell_type": "code",
     "collapsed": false,
     "input": [
      "def split_plot(app):\n",
      "    \n",
      "    # Ten shades of gray\n",
      "    color = plt.cm.binary(np.linspace(0, 1, 10))\n",
      "    \n",
      "    ax1 = app[0].plot(kind='bar',stacked=False,\n",
      "               title='Amber-CoCo MD application with SAL pattern on Stampede with different cores per simulation',\n",
      "               colors=[color[3],color[5]],\n",
      "               ylim=(0,1800),fontsize=18,rot=0,yerr=app[1],position=0)\n",
      "    \n",
      "    \n",
      "    ax1.set_xlabel('Cores per simulation/No. of simulations',fontsize=18)\n",
      "    ax1.set_ylabel('Time (seconds)',fontsize=18)\n",
      "    ax1.set_title(ax1.get_title(),fontsize=18)   \n",
      "    ax1.legend(fontsize=18,loc='upper right')\n",
      "    \n",
      "    fig = plt.gcf()\n",
      "    fig.set_size_inches(16,6)\n",
      "    fig.savefig('plot_bw.png', dpi=100)"
     ],
     "language": "python",
     "metadata": {},
     "outputs": [],
     "prompt_number": 7
    },
    {
     "cell_type": "code",
     "collapsed": false,
     "input": [
      "#MAIN\n",
      "\n",
      "comp_df = pd.DataFrame(columns=[\n",
      "                                'sim execution time',\n",
      "                                'ana execution time',\n",
      "                                ])\n",
      "\n",
      "err_df = pd.DataFrame(columns=[\n",
      "                                'sim execution time',\n",
      "                                'ana execution time',\n",
      "                                ])\n",
      "\n",
      "for c in cps:\n",
      "    \n",
      "    preloop_exec_list = list()\n",
      "    sim_exec_list = list()\n",
      "    ana_exec_list = list()\n",
      "    \n",
      "    for t in range(1,trials+1):\n",
      "               \n",
      "        fname = glob.glob('experiment_iter{0}_p{2}_cps{1}/execution*.csv'.format(t,c,c*64))[0]\n",
      "        df_cu = pd.read_csv('{0}'.format(fname),header=0,sep=',',skipinitialspace=True)\n",
      "        \n",
      "        #print df_cu\n",
      "        exec_list = extract_timing_info(df_cu,inst=64,cps=c)\n",
      "        print exec_list\n",
      "        \n",
      "\n",
      "        sim_exec_list.append(exec_list[1])\n",
      "        ana_exec_list.append(exec_list[2])\n",
      "        \n",
      "    comp_df.loc['{0}/{1}'.format(c,64)] = [\n",
      "                                          np.average(sim_exec_list),\n",
      "                                          np.average(ana_exec_list)\n",
      "                                          ]\n",
      "    \n",
      "    err_df.loc['{0}/{1}'.format(c,64)] = [\n",
      "                                          \n",
      "                                          np.std(sim_exec_list)/math.sqrt(trials),\n",
      "                                          np.std(ana_exec_list)/math.sqrt(trials)\n",
      "                                          \n",
      "                                         ]\n",
      "    \n",
      "    \n",
      "split_plot([comp_df,err_df])"
     ],
     "language": "python",
     "metadata": {},
     "outputs": [
      {
       "output_type": "stream",
       "stream": "stdout",
       "text": [
        "Size comp correct\n",
        "[0, 1682.1875, 48.0]\n",
        "Size comp correct\n",
        "[0, 1650.640625, 49.0]\n",
        "Size comp correct\n",
        "[0, 1641.65625, 49.0]\n",
        "Size comp correct\n",
        "[0, 106.78125, 45.0]"
       ]
      },
      {
       "output_type": "stream",
       "stream": "stdout",
       "text": [
        "\n",
        "Size comp correct\n",
        "[0, 108.484375, 46.0]\n",
        "Size comp correct\n",
        "[0, 106.640625, 49.0]\n",
        "Size comp correct\n",
        "[0, 66.4375, 50.0]\n",
        "Size comp correct\n",
        "[0, 67.3125, 46.0]\n",
        "Size comp correct\n",
        "[0, 67.96875, 48.0]"
       ]
      },
      {
       "output_type": "stream",
       "stream": "stdout",
       "text": [
        "\n",
        "Size comp correct\n",
        "[0, 46.1875, 44.0]\n",
        "Size comp correct\n",
        "[0, 46.796875, 45.0]\n",
        "Size comp correct\n",
        "[0, 49.578125, 50.0]\n"
       ]
      }
     ],
     "prompt_number": 20
    },
    {
     "cell_type": "code",
     "collapsed": false,
     "input": [],
     "language": "python",
     "metadata": {},
     "outputs": []
    }
   ],
   "metadata": {}
  }
 ]
}