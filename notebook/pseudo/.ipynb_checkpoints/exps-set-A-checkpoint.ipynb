{
 "metadata": {
  "name": ""
 },
 "nbformat": 3,
 "nbformat_minor": 0,
 "worksheets": [
  {
   "cells": [
    {
     "cell_type": "code",
     "collapsed": false,
     "input": [
      "import pandas as pd\n",
      "import random as rd\n",
      "DATAP=[16,32,64,128]\n",
      "MIN_OVERHEAD=1\n",
      "MAX_OVERHEAD=3\n",
      "MIN_EXEC=2\n",
      "MAX_EXEC=10\n",
      "MIN_DATA=1\n",
      "MAX_DATA=3\n",
      "%matplotlib"
     ],
     "language": "python",
     "metadata": {},
     "outputs": [
      {
       "output_type": "stream",
       "stream": "stdout",
       "text": [
        "Using matplotlib backend: TkAgg\n"
       ]
      }
     ],
     "prompt_number": 1
    },
    {
     "cell_type": "code",
     "collapsed": false,
     "input": [
      "# Prep data for Pipeline\n",
      "'''\n",
      "df1 = pd.DataFrame(columns=['step-1 execution time','step-2 execution time','data movement','overhead'])\n",
      "for p in DATAP:\n",
      "    df1.loc['{0}/{0}'.format(p)]=[rd.randint(MIN_EXEC,MAX_EXEC),\n",
      "                      rd.randint(MIN_EXEC,MAX_EXEC),\n",
      "                      rd.randint(MIN_DATA,MAX_DATA),\n",
      "                      rd.randint(OVERHEAD_MIN,OVERHEAD_MAX)]\n",
      "'''\n",
      "#df1.plot(kind='bar',stacked=True)"
     ],
     "language": "python",
     "metadata": {},
     "outputs": [
      {
       "metadata": {},
       "output_type": "pyout",
       "prompt_number": 2,
       "text": [
        "\"\\ndf1 = pd.DataFrame(columns=['step-1 execution time','step-2 execution time','data movement','overhead'])\\nfor p in DATAP:\\n    df1.loc['{0}/{0}'.format(p)]=[rd.randint(MIN_EXEC,MAX_EXEC),\\n                      rd.randint(MIN_EXEC,MAX_EXEC),\\n                      rd.randint(MIN_DATA,MAX_DATA),\\n                      rd.randint(OVERHEAD_MIN,OVERHEAD_MAX)]\\n\""
       ]
      }
     ],
     "prompt_number": 2
    },
    {
     "cell_type": "code",
     "collapsed": false,
     "input": [
      "# Prep data for Repex\n",
      "'''\n",
      "df2 = pd.DataFrame(columns=['MD-run execution time','exchange execution time','data movement','overhead'])\n",
      "for p in DATAP:\n",
      "    df2.loc['{0}/{0}'.format(p)] = [rd.randint(MIN_EXEC,MAX_EXEC),\n",
      "                                    rd.randint(MIN_EXEC,MAX_EXEC),\n",
      "                                    rd.randint(MIN_DATA,MAX_DATA),\n",
      "                                    rd.randint(OVERHEAD_MIN,OVERHEAD_MAX)]\n",
      "'''\n",
      "#df2.plot(kind='bar',stacked=True)"
     ],
     "language": "python",
     "metadata": {},
     "outputs": [
      {
       "metadata": {},
       "output_type": "pyout",
       "prompt_number": 3,
       "text": [
        "\"\\ndf2 = pd.DataFrame(columns=['MD-run execution time','exchange execution time','data movement','overhead'])\\nfor p in DATAP:\\n    df2.loc['{0}/{0}'.format(p)] = [rd.randint(MIN_EXEC,MAX_EXEC),\\n                                    rd.randint(MIN_EXEC,MAX_EXEC),\\n                                    rd.randint(MIN_DATA,MAX_DATA),\\n                                    rd.randint(OVERHEAD_MIN,OVERHEAD_MAX)]\\n\""
       ]
      }
     ],
     "prompt_number": 3
    },
    {
     "cell_type": "code",
     "collapsed": false,
     "input": [
      "# Prep data for SAL\n",
      "'''\n",
      "df3 = pd.DataFrame(columns=['pre-loop execution time','simulation execution time','analysis execution time','data movement','overhead'])\n",
      "for p in DATAP:\n",
      "    df3.loc['{0}/{0}'.format(p)] = [rd.randint(MIN_EXEC,MAX_EXEC),\n",
      "                                    rd.randint(MIN_EXEC,MAX_EXEC),\n",
      "                                    rd.randint(MIN_EXEC,MAX_EXEC),\n",
      "                                    rd.randint(MIN_DATA,MAX_DATA),\n",
      "                                    rd.randint(OVERHEAD_MIN,OVERHEAD_MAX)]\n",
      "'''\n",
      "#df3.plot(kind='bar',stacked=True)"
     ],
     "language": "python",
     "metadata": {},
     "outputs": [
      {
       "metadata": {},
       "output_type": "pyout",
       "prompt_number": 4,
       "text": [
        "\"\\ndf3 = pd.DataFrame(columns=['pre-loop execution time','simulation execution time','analysis execution time','data movement','overhead'])\\nfor p in DATAP:\\n    df3.loc['{0}/{0}'.format(p)] = [rd.randint(MIN_EXEC,MAX_EXEC),\\n                                    rd.randint(MIN_EXEC,MAX_EXEC),\\n                                    rd.randint(MIN_EXEC,MAX_EXEC),\\n                                    rd.randint(MIN_DATA,MAX_DATA),\\n                                    rd.randint(OVERHEAD_MIN,OVERHEAD_MAX)]\\n\""
       ]
      }
     ],
     "prompt_number": 4
    },
    {
     "cell_type": "code",
     "collapsed": false,
     "input": [
      "# Split-up Plot\n",
      "'''\n",
      "ax1 = df1.plot(kind='bar',title='Makefile and character count application implemented with the Pipeline pattern',\n",
      "               colors=['blue','green','black','red'],ylim=(0,30),fontsize=22)\n",
      "ax1.set_xlabel('Cores/Bag Size (Number of steps = 2)',fontsize=22)\n",
      "ax1.legend(fontsize=22)\n",
      "ax1.set_ylabel('Time (seconds)',fontsize=22)\n",
      "ax1.set_title(ax1.get_title(),fontsize=22)\n",
      "\n",
      "ax2 = df2.plot(kind='bar',stacked=True,title='Makefile and character count application implemented with the Replice Exchange pattern',\n",
      "               colors=['blue','green','black','red'],ylim=(0,30),fontsize=22)\n",
      "ax2.set_xlabel('Cores/Simulation instances (Number of exchanges = 1)',fontsize=22)\n",
      "ax2.set_ylabel('Time (seconds)',fontsize=22)\n",
      "ax2.legend(fontsize=22)\n",
      "ax2.set_title(ax2.get_title(),fontsize=22)\n",
      "\n",
      "ax3 = df3.plot(kind='bar',stacked=True,title='Makefile and character count application implemented with the Simulation-Analysis-Loop pattern',\n",
      "               colors=['purple','blue','green','black','red'],ylim=(0,40),fontsize=22)\n",
      "ax3.set_xlabel('Cores/Simulation instances (Number of analysis instances = 1)',fontsize=22)\n",
      "ax3.set_ylabel('Time (seconds)',fontsize=22)\n",
      "ax3.legend(fontsize=22)\n",
      "ax3.set_title(ax3.get_title(),fontsize=22)\n",
      "'''"
     ],
     "language": "python",
     "metadata": {},
     "outputs": [
      {
       "metadata": {},
       "output_type": "pyout",
       "prompt_number": 5,
       "text": [
        "\"\\nax1 = df1.plot(kind='bar',title='Makefile and character count application implemented with the Pipeline pattern',\\n               colors=['blue','green','black','red'],ylim=(0,30),fontsize=22)\\nax1.set_xlabel('Cores/Bag Size (Number of steps = 2)',fontsize=22)\\nax1.legend(fontsize=22)\\nax1.set_ylabel('Time (seconds)',fontsize=22)\\nax1.set_title(ax1.get_title(),fontsize=22)\\n\\nax2 = df2.plot(kind='bar',stacked=True,title='Makefile and character count application implemented with the Replice Exchange pattern',\\n               colors=['blue','green','black','red'],ylim=(0,30),fontsize=22)\\nax2.set_xlabel('Cores/Simulation instances (Number of exchanges = 1)',fontsize=22)\\nax2.set_ylabel('Time (seconds)',fontsize=22)\\nax2.legend(fontsize=22)\\nax2.set_title(ax2.get_title(),fontsize=22)\\n\\nax3 = df3.plot(kind='bar',stacked=True,title='Makefile and character count application implemented with the Simulation-Analysis-Loop pattern',\\n               colors=['purple','blue','green','black','red'],ylim=(0,40),fontsize=22)\\nax3.set_xlabel('Cores/Simulation instances (Number of analysis instances = 1)',fontsize=22)\\nax3.set_ylabel('Time (seconds)',fontsize=22)\\nax3.legend(fontsize=22)\\nax3.set_title(ax3.get_title(),fontsize=22)\\n\""
       ]
      }
     ],
     "prompt_number": 5
    },
    {
     "cell_type": "code",
     "collapsed": false,
     "input": [
      "df = pd.DataFrame(columns=['Pipeline - Total time to Completion',\n",
      "                           'Replica Exchange - Total time to Completion',\n",
      "                           'Simulation Analysis Loop - Total time to Completion'])\n",
      "MIN_TTC = MIN_OVERHEAD + MIN_EXEC + MIN_DATA\n",
      "MAX_TTC = MAX_OVERHEAD + MAX_EXEC + MAX_DATA\n",
      "for p in DATAP:\n",
      "    df.loc['{0}'.format(p)] = [rd.randint(MIN_TTC,MAX_TTC),\n",
      "                               rd.randint(MIN_TTC,MAX_TTC),\n",
      "                               rd.randint(MIN_TTC,MAX_TTC)]\n",
      "    \n",
      "ax=df.plot(kind='bar',stacked=False,\n",
      "        title='Makefile and Character count application implemented with different Execution Patterns',\n",
      "        ylim = (0,25),fontsize=22,rot=0,color=['red','green','blue'])\n",
      "ax.set_xlabel('Cores',fontsize=22)\n",
      "ax.set_ylabel('Time (seconds)',fontsize=22)\n",
      "ax.set_title(ax.get_title(),fontsize=22)"
     ],
     "language": "python",
     "metadata": {},
     "outputs": [
      {
       "metadata": {},
       "output_type": "pyout",
       "prompt_number": 8,
       "text": [
        "<matplotlib.text.Text at 0x7f80a2d24c10>"
       ]
      }
     ],
     "prompt_number": 8
    },
    {
     "cell_type": "code",
     "collapsed": false,
     "input": [],
     "language": "python",
     "metadata": {},
     "outputs": []
    }
   ],
   "metadata": {}
  }
 ]
}