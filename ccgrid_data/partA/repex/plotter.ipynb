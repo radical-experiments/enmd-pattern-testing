{
 "metadata": {
  "name": ""
 },
 "nbformat": 3,
 "nbformat_minor": 0,
 "worksheets": [
  {
   "cells": [
    {
     "cell_type": "code",
     "collapsed": false,
     "input": [
      "import pandas as pd\n",
      "import matplotlib.pyplot as plt\n",
      "import datetime\n",
      "import math\n",
      "import os\n",
      "import numpy as np\n",
      "import glob\n",
      "%matplotlib"
     ],
     "language": "python",
     "metadata": {},
     "outputs": [
      {
       "output_type": "stream",
       "stream": "stdout",
       "text": [
        "Using matplotlib backend: TkAgg\n"
       ]
      }
     ],
     "prompt_number": 1
    },
    {
     "cell_type": "code",
     "collapsed": false,
     "input": [
      "trials = 3\n",
      "cores = [24,48,96,192]"
     ],
     "language": "python",
     "metadata": {},
     "outputs": [],
     "prompt_number": 2
    },
    {
     "cell_type": "code",
     "collapsed": false,
     "input": [
      "def extract_time_date(t1,t2,t3=None,t4=None):\n",
      "    \n",
      "    try:\n",
      "        t1 = datetime.datetime.strptime(t1, \"%Y-%m-%d %H:%M:%S.%f\")\n",
      "    except:\n",
      "        t1 = datetime.datetime.strptime(t1, \"%Y-%m-%d %H:%M:%S\")\n",
      "        \n",
      "    try:\n",
      "        t2  = datetime.datetime.strptime(t2, \"%Y-%m-%d %H:%M:%S.%f\")\n",
      "    except:\n",
      "        t2  = datetime.datetime.strptime(t2, \"%Y-%m-%d %H:%M:%S\")\n",
      "        \n",
      "    if t3 is not None:\n",
      "        \n",
      "        try:\n",
      "            t3   = datetime.datetime.strptime(t3, \"%Y-%m-%d %H:%M:%S.%f\")\n",
      "        except:\n",
      "            t3   = datetime.datetime.strptime(t3, \"%Y-%m-%d %H:%M:%S\")\n",
      "        \n",
      "        try:\n",
      "            t4  = datetime.datetime.strptime(t4, \"%Y-%m-%d %H:%M:%S.%f\")\n",
      "        except:\n",
      "            t4  = datetime.datetime.strptime(t4, \"%Y-%m-%d %H:%M:%S\")\n",
      "            \n",
      "            \n",
      "        return ((t2-t1)+(t4-t3)).total_seconds()\n",
      "    \n",
      "    else:\n",
      "        return (t2-t1).total_seconds()"
     ],
     "language": "python",
     "metadata": {},
     "outputs": [],
     "prompt_number": 3
    },
    {
     "cell_type": "code",
     "collapsed": false,
     "input": [
      "def extract_time(t1,t2,t3=None,t4=None):\n",
      "    if t3 is not None:\n",
      "        t1=int(t1)\n",
      "        t2=int(t2)\n",
      "        t3=int(t3)\n",
      "        t4=int(t4)\n",
      "        return ((t2-t1)+(t4-t3))\n",
      "    else:\n",
      "        t1=int(t1)\n",
      "        t2=int(t2)\n",
      "        return (t2-t1)"
     ],
     "language": "python",
     "metadata": {},
     "outputs": [],
     "prompt_number": 4
    },
    {
     "cell_type": "code",
     "collapsed": false,
     "input": [
      "def split_file(t,c):\n",
      "    fname = glob.glob('experiment_iter{0}_p{1}_i{1}/execution*.csv'.format(t,c))\n",
      "    #print fname\n",
      "    fname=fname[0]\n",
      "    try:\n",
      "        os.remove('enmd_pat_overhead.csv')\n",
      "    except:\n",
      "        pass\n",
      "    try:\n",
      "        os.remove('execution_profile.csv')\n",
      "    except:\n",
      "        pass\n",
      "    l=0\n",
      "    with open(fname,'r') as f1:\n",
      "        for line in f1:\n",
      "            if (l<7):\n",
      "                with open('enmd_pat_overhead.csv','a') as f2:\n",
      "                    f2.write(line)\n",
      "                l+=1\n",
      "            else:\n",
      "                with open('execution_profile.csv','a') as f3:\n",
      "                    f3.write(line)\n",
      "                    \n",
      "    df_pat = pd.read_csv('enmd_pat_overhead.csv',header=0,sep=';')\n",
      "    df_cu = pd.read_csv('execution_profile.csv',header=0,sep=';',skipinitialspace=True).sort('CU_ID')\n",
      "    \n",
      "    return df_pat, df_cu\n",
      "        "
     ],
     "language": "python",
     "metadata": {},
     "outputs": [],
     "prompt_number": 5
    },
    {
     "cell_type": "code",
     "collapsed": false,
     "input": [
      "def extract_core_overhead(df):\n",
      "    alloc_start,alloc_stop,dealloc_start,dealloc_stop = df['timestamp']\n",
      "    core_ov = extract_time_date(alloc_start,alloc_stop,dealloc_start,dealloc_stop)\n",
      "    \n",
      "    return core_ov"
     ],
     "language": "python",
     "metadata": {},
     "outputs": [],
     "prompt_number": 6
    },
    {
     "cell_type": "code",
     "collapsed": false,
     "input": [
      "def extract_timing_info(df,cores,inst):\n",
      "    \n",
      "    sim_data,ex_data = extract_data_time(df,cores,inst)\n",
      "    sim_exec,ex_exec = extract_exec_time(df,cores,inst)\n",
      "    \n",
      "    #return [sim_data, ex_data]\n",
      "    return [sim_data, ex_data],[sim_exec, ex_exec]"
     ],
     "language": "python",
     "metadata": {},
     "outputs": [],
     "prompt_number": 7
    },
    {
     "cell_type": "code",
     "collapsed": false,
     "input": [
      "def extract_data_time(df,cores,inst):\n",
      "    req_df = df[['Step','StagingInput','Allocating','AgentStagingOutputPending','Done']]\n",
      "    \n",
      "    \n",
      "    sim_df = req_df[:inst]\n",
      "    ex_df = req_df[inst:]\n",
      "    \n",
      "    \n",
      "    #Step1 extraction\n",
      "    sim_data_time  = list()\n",
      "    for row in sim_df.iterrows():\n",
      "        step,t1,t2,t3,t4 = row[1:][0]\n",
      "        sim_data_time.append(extract_time(t1,t2,t3,t4))\n",
      "        \n",
      "    sim_data_time = np.average(sim_data_time)\n",
      "    \n",
      "    #Step2 extraction\n",
      "    ex_data_time  = list()\n",
      "    for row in ex_df.iterrows():\n",
      "        step,t1,t2,t3,t4 = row[1:][0]\n",
      "        #print t1,t2,t3,t4\n",
      "        ex_data_time.append(extract_time(t1,t2,t3,t4))\n",
      "    \n",
      "    ex_data_time = np.average(ex_data_time)\n",
      "    \n",
      "    \n",
      "    #print step1_data_time,step2_data_time\n",
      "    return sim_data_time,ex_data_time\n",
      "    "
     ],
     "language": "python",
     "metadata": {},
     "outputs": [],
     "prompt_number": 8
    },
    {
     "cell_type": "code",
     "collapsed": false,
     "input": [
      "def extract_exec_time(df,cores,inst):\n",
      "    req_df = df[['Step','Executing','AgentStagingOutputPending']]\n",
      "    \n",
      "    sim_df = req_df[:inst]\n",
      "    ex_df = req_df[inst:]\n",
      "    \n",
      "    \n",
      "    #Step1 extraction\n",
      "    sim_exec_time  = list()\n",
      "    for row in sim_df.iterrows():\n",
      "        step,t1,t2 = row[1:][0]\n",
      "        sim_exec_time.append(extract_time(t1,t2))\n",
      "        \n",
      "    sim_exec_time = np.average(sim_exec_time)\n",
      "    \n",
      "    #Step2 extraction\n",
      "    ex_exec_time  = list()\n",
      "    for row in ex_df.iterrows():\n",
      "        step,t1, t2 = row[1:][0]\n",
      "        ex_exec_time.append(extract_time(t1,t2))\n",
      "    \n",
      "    ex_exec_time = np.average(ex_exec_time)\n",
      "    \n",
      "    \n",
      "    #print step1_data_time,step2_data_time\n",
      "    return sim_exec_time,ex_exec_time"
     ],
     "language": "python",
     "metadata": {},
     "outputs": [],
     "prompt_number": 9
    },
    {
     "cell_type": "code",
     "collapsed": false,
     "input": [
      "def extract_pat_overhead(df):\n",
      "    pp_enmd_ov = df.loc[1][4]\n",
      "    ex_enmd_ov = df.loc[3][4]\n",
      "    md_enmd_ov = df.loc[5][4]\n",
      "    return pp_enmd_ov + ex_enmd_ov + md_enmd_ov"
     ],
     "language": "python",
     "metadata": {},
     "outputs": [],
     "prompt_number": 10
    },
    {
     "cell_type": "code",
     "collapsed": false,
     "input": [
      "def extract_rp_overhead(df,data,exec_list):\n",
      "    \n",
      "    \n",
      "    ex_step_time = df.loc[2][4] - df.loc[3][4]\n",
      "    md_step_time = df.loc[4][4] - df.loc[5][4]\n",
      "    \n",
      "    ex_rp_ov = ex_step_time - data[1] - exec_list[1]\n",
      "    \n",
      "    md_rp_ov = md_step_time - data[0] - exec_list[0]\n",
      "    \n",
      "    rp_ov = md_rp_ov + ex_rp_ov\n",
      "    \n",
      "    \n",
      "    #print preloop_rp_ov, sim_rp_ov, ana_rp_ov\n",
      "    \n",
      "    return rp_ov"
     ],
     "language": "python",
     "metadata": {},
     "outputs": [],
     "prompt_number": 11
    },
    {
     "cell_type": "code",
     "collapsed": false,
     "input": [
      "def separate(comp_df,err_df):\n",
      "    ov_df = pd.DataFrame(columns=['EnMD Core overhead',\n",
      "                                'EnMD Pat overhead',\n",
      "                                'RP overhead'])\n",
      "    ov_df_err = pd.DataFrame(columns=['EnMD Core overhead',\n",
      "                                'EnMD Pat overhead',\n",
      "                                'RP overhead'])\n",
      "    ov_df['EnMD Core overhead'] = comp_df['EnMD Core overhead']\n",
      "    ov_df['EnMD Pat overhead'] = comp_df['EnMD Pat overhead']\n",
      "    ov_df['RP overhead'] = comp_df['RP overhead']\n",
      "    \n",
      "    ov_df_err['EnMD Core overhead'] = err_df['EnMD Core overhead']\n",
      "    ov_df_err['EnMD Pat overhead'] = err_df['EnMD Pat overhead']\n",
      "    ov_df_err['RP overhead'] = err_df['RP overhead']\n",
      "    \n",
      "    \n",
      "    \n",
      "    app_df = pd.DataFrame(columns=['sim execution time',\n",
      "                                    'exch execution time'])\n",
      "    app_df_err = pd.DataFrame(columns=['sim execution time',\n",
      "                                    'exch execution time'])\n",
      "\n",
      "    app_df['sim execution time'] = comp_df['sim execution time']\n",
      "    app_df['exch execution time'] = comp_df['exch execution time']\n",
      "    \n",
      "    app_df_err['sim execution time'] = err_df['sim execution time']\n",
      "    app_df_err['exch execution time'] = err_df['exch execution time']\n",
      "    \n",
      "    \n",
      "    \n",
      "    data_df = pd.DataFrame(columns=['data movement'])\n",
      "    data_df_err = pd.DataFrame(columns=['data movement'])\n",
      "    data_df['data movement'] = comp_df['data movement']\n",
      "    data_df_err['data movement'] = err_df['data movement']\n",
      "    \n",
      "    split_plot([ov_df,ov_df_err],[app_df,app_df_err],[data_df,data_df_err])"
     ],
     "language": "python",
     "metadata": {},
     "outputs": [],
     "prompt_number": 12
    },
    {
     "cell_type": "code",
     "collapsed": false,
     "input": [
      "def split_plot(ov,app,data):\n",
      "    fig, axes = plt.subplots(nrows=3, ncols=1)\n",
      "    ax1 = ov[0].plot(ax=axes[1],kind='bar',stacked=False,\n",
      "               title='Overhead: Character count application implemented with Replica Exchange pattern on XSEDE.Comet',\n",
      "               colors=['black','green','red'],ylim=(0,250),fontsize=18,rot=0,yerr=ov[1])\n",
      "    ax2 = app[0].plot(ax=axes[0],kind='bar',stacked=False,\n",
      "               title='Application: Character count application implemented with Replica Exchange pattern on XSEDE.Comet',\n",
      "               colors=['blue','yellow'],ylim=(0,10),fontsize=18,rot=0,yerr=app[1])\n",
      "    ax3 = data[0].plot(ax=axes[2],kind='bar',stacked=False,\n",
      "               title='Data Movement: Character count application implemented with Replica Exchange pattern on XSEDE.Comet',\n",
      "               colors=['brown'],ylim=(0,100),fontsize=18,rot=0,yerr=data[1])\n",
      "    \n",
      "    ax2.set_xlabel('Cores/No. of simulations',fontsize=18)\n",
      "    ax2.set_ylabel('Time (seconds)',fontsize=18)\n",
      "    ax2.legend(fontsize=18,loc='upper left')\n",
      "    ax2.set_title(ax2.get_title(),fontsize=18)\n",
      "    ax1.set_xlabel('Cores/No. of simulations',fontsize=18)\n",
      "    ax1.set_ylabel('Time (seconds)',fontsize=18)\n",
      "    ax1.legend(fontsize=18,loc='upper left')\n",
      "    ax1.set_title(ax1.get_title(),fontsize=18)\n",
      "    ax3.set_xlabel('Cores/No. of simulations',fontsize=18)\n",
      "    ax3.set_ylabel('Time (seconds)',fontsize=18)\n",
      "    ax3.legend(fontsize=18,loc='upper left')\n",
      "    ax3.set_title(ax3.get_title(),fontsize=18)"
     ],
     "language": "python",
     "metadata": {},
     "outputs": [],
     "prompt_number": 13
    },
    {
     "cell_type": "code",
     "collapsed": false,
     "input": [
      "#MAIN\n",
      "\n",
      "comp_df = pd.DataFrame(columns=['EnMD Core overhead',\n",
      "                                'EnMD Pat overhead',\n",
      "                                'RP overhead',\n",
      "                                'sim execution time',\n",
      "                                'exch execution time',\n",
      "                                'data movement'])\n",
      "\n",
      "err_df = pd.DataFrame(columns=['EnMD Core overhead',\n",
      "                                'EnMD Pat overhead',\n",
      "                                'RP overhead',\n",
      "                                'sim execution time',\n",
      "                                'exch execution time',\n",
      "                                'data movement'])\n",
      "\n",
      "#cores=[24]\n",
      "#trials=1\n",
      "for c in cores:\n",
      "    \n",
      "    core_ov_list = list()\n",
      "    pat_ov_list = list()\n",
      "    rp_ov_list = list()\n",
      "    data_list = list()\n",
      "    sim_exec_list = list()\n",
      "    ex_exec_list = list()\n",
      "    \n",
      "    for t in range(1,trials+1):\n",
      "        #print c,t\n",
      "        #f_core = open('experiment_iter{0}_p{1}_i{1}/enmd_core_overhead.csv'.format(t,c))\n",
      "        df_core = pd.read_csv('experiment_iter{0}_p{1}_i{1}/enmd_core_overhead.csv'.format(t,c),header=0,sep=',')\n",
      "        df_pat, df_cu = split_file(t,c)\n",
      "        \n",
      "        #df_pat = pd.read_csv('experiment_iter{0}_p{1}_i{1}/enmd_pat_overhead.csv'.format(t,c),header=0,sep=',')\n",
      "        #fname = glob.glob('experiment_iter{0}_p{1}_i{1}/execution*.csv'.format(t,c))[0]\n",
      "        #df = pd.read_csv('{0}'.format(fname),header=0,sep=';',skipinitialspace=True)\n",
      "        \n",
      "        core_ov = extract_core_overhead(df_core)\n",
      "        pat_ov = extract_pat_overhead(df_pat)\n",
      "        data, exec_list = extract_timing_info(df_cu,cores=c,inst=c)\n",
      "        rp_ov = extract_rp_overhead(df_pat,data,exec_list)\n",
      "        \n",
      "        #print exec_list\n",
      "        core_ov_list.append(core_ov)\n",
      "        pat_ov_list.append(pat_ov)\n",
      "        rp_ov_list.append(rp_ov)\n",
      "        sim_exec_list.append(exec_list[0])\n",
      "        ex_exec_list.append(exec_list[1])\n",
      "        data_list.append(sum(data))\n",
      "    \n",
      "    comp_df.loc['{0}/{1}'.format(c,c)] = [np.average(core_ov_list),\n",
      "                                          np.average(pat_ov_list),\n",
      "                                          np.average(rp_ov_list),\n",
      "                                          np.average(sim_exec_list),\n",
      "                                          np.average(ex_exec_list),\n",
      "                                          np.average(data_list)]\n",
      "    \n",
      "    err_df.loc['{0}/{1}'.format(c,c)] = [\n",
      "                                          np.std(core_ov_list)/math.sqrt(trials),\n",
      "                                          np.std(pat_ov_list)/math.sqrt(trials),\n",
      "                                          np.std(rp_ov_list)/math.sqrt(trials),\n",
      "                                          np.std(sim_exec_list)/math.sqrt(trials),\n",
      "                                          np.std(ex_exec_list)/math.sqrt(trials),\n",
      "                                          np.std(data_list)/math.sqrt(trials)\n",
      "                                         ]\n",
      "    \n",
      "    \n",
      "separate(comp_df,err_df)\n"
     ],
     "language": "python",
     "metadata": {},
     "outputs": [
      {
       "output_type": "stream",
       "stream": "stderr",
       "text": [
        "/usr/local/lib/python2.7/dist-packages/pandas/tools/plotting.py:859: UserWarning: 'colors' is being deprecated. Please use 'color'instead of 'colors'\n",
        "  warnings.warn((\"'colors' is being deprecated. Please use 'color'\"\n"
       ]
      }
     ],
     "prompt_number": 14
    },
    {
     "cell_type": "code",
     "collapsed": false,
     "input": [
      "print rp_ov_list"
     ],
     "language": "python",
     "metadata": {},
     "outputs": [
      {
       "output_type": "stream",
       "stream": "stdout",
       "text": [
        "[27.917595000000006]\n"
       ]
      }
     ],
     "prompt_number": 109
    },
    {
     "cell_type": "code",
     "collapsed": false,
     "input": [
      "print data"
     ],
     "language": "python",
     "metadata": {},
     "outputs": [
      {
       "output_type": "stream",
       "stream": "stdout",
       "text": [
        "[12.458333333333334, 3.75]\n"
       ]
      }
     ],
     "prompt_number": 110
    },
    {
     "cell_type": "code",
     "collapsed": false,
     "input": [
      "print exec_list"
     ],
     "language": "python",
     "metadata": {},
     "outputs": [
      {
       "output_type": "stream",
       "stream": "stdout",
       "text": [
        "[11.791666666666666, 5.375]\n"
       ]
      }
     ],
     "prompt_number": 111
    },
    {
     "cell_type": "code",
     "collapsed": false,
     "input": [],
     "language": "python",
     "metadata": {},
     "outputs": []
    }
   ],
   "metadata": {}
  }
 ]
}