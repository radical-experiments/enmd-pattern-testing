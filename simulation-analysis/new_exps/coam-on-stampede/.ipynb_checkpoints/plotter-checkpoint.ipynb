{
 "metadata": {
  "name": ""
 },
 "nbformat": 3,
 "nbformat_minor": 0,
 "worksheets": [
  {
   "cells": [
    {
     "cell_type": "code",
     "collapsed": false,
     "input": [
      "#Module setups\n",
      "import pandas as pd\n",
      "import math\n",
      "import numpy as np\n",
      "%matplotlib\n"
     ],
     "language": "python",
     "metadata": {},
     "outputs": [
      {
       "output_type": "stream",
       "stream": "stdout",
       "text": [
        "Using matplotlib backend: TkAgg\n"
       ]
      }
     ],
     "prompt_number": 7
    },
    {
     "cell_type": "code",
     "collapsed": false,
     "input": [
      "#Experiment range\n",
      "trials = 1\n",
      "size = [16,32,64,128]"
     ],
     "language": "python",
     "metadata": {},
     "outputs": [],
     "prompt_number": 8
    },
    {
     "cell_type": "code",
     "collapsed": false,
     "input": [
      "#Combine the multiple trials into on DF \n",
      "def wrangle(df_list):\n",
      "    df_new = pd.DataFrame(columns=['pattern_entity','value_type','average duration','error'])\n",
      "    #Ignoring the errors within a CU since they are very small\n",
      "    df_new['pattern_entity'] = df_list[0]['pattern_entity']\n",
      "    df_new['value_type']     = df_list[0]['value_type']\n",
      "    df_new['average duration'] = df_list[0]['average duration']\n",
      "    for i in range(1,len(df_list)):\n",
      "        df_new['average duration'] += df_list[i]['average duration']\n",
      "    df_new['average duration'] = df_new['average duration']/len(df_list)\n",
      "    for i in range(0,len(df_list[0])):\n",
      "        temp=[]\n",
      "        for j in range(0,len(df_list)):\n",
      "            temp.append(df_list[j]['average duration'][i])\n",
      "        df_new['error'].loc[i] = np.std(temp)/math.sqrt(len(df_list)) # Stderr/sqrt(N)\n",
      "    #print df_new\n",
      "    return df_new"
     ],
     "language": "python",
     "metadata": {},
     "outputs": [],
     "prompt_number": 9
    },
    {
     "cell_type": "code",
     "collapsed": false,
     "input": [
      "#Mine the wrangled DF for required data\n",
      "def mine(df_list):\n",
      "    #print df_list\n",
      "    \n",
      "    total_time = df_list.loc[0]['average duration'] + df_list.loc[3]['average duration'] + df_list.loc[6]['average duration']\n",
      "    exec_time = df_list.loc[1]['average duration'] + df_list.loc[4]['average duration'] + df_list.loc[7]['average duration']\n",
      "    data_time = df_list.loc[2]['average duration'] + df_list.loc[5]['average duration'] + df_list.loc[8]['average duration']\n",
      "    overhead = total_time - exec_time - data_time\n",
      "    \n",
      "    total_time_err = math.sqrt(df_list.loc[0]['error']*df_list.loc[0]['error'] + \n",
      "                                df_list.loc[3]['error']*df_list.loc[3]['error'] + \n",
      "                                df_list.loc[6]['error']*df_list.loc[6]['error'])\n",
      "    exec_time_err = math.sqrt(df_list.loc[1]['error']*df_list.loc[1]['error'] + \n",
      "                                df_list.loc[4]['error']*df_list.loc[4]['error'] + \n",
      "                                df_list.loc[7]['error']*df_list.loc[7]['error'])\n",
      "    data_time_err = math.sqrt(df_list.loc[2]['error']*df_list.loc[2]['error'] + \n",
      "                              df_list.loc[5]['error']*df_list.loc[5]['error'] + \n",
      "                              df_list.loc[8]['error']*df_list.loc[8]['error'])\n",
      "    \n",
      "    overhead_err = math.sqrt(math.pow(total_time_err,2)+math.pow(exec_time_err,2)+math.pow(data_time_err,2))\n",
      "    return [[overhead,exec_time,data_time],[overhead_err,exec_time_err,data_time_err]]"
     ],
     "language": "python",
     "metadata": {},
     "outputs": [],
     "prompt_number": 10
    },
    {
     "cell_type": "code",
     "collapsed": false,
     "input": [
      "#Plot the mined DF\n",
      "def dfplot(df,err_df):\n",
      "    ax = df.plot(kind='bar',stacked=True,color=['purple','blue','green'],rot=0,ylim=(0,3000),\n",
      "            title='EnMD Simulation Analysis Loop pattern with Amber-CoCo on XSEDE.Stampede',yerr=err_df)\n",
      "    ax.set_xlabel('Cores/Simulation instances (Number of analysis instances = 1)')\n",
      "    ax.set_ylabel('Time (seconds)')"
     ],
     "language": "python",
     "metadata": {},
     "outputs": [],
     "prompt_number": 11
    },
    {
     "cell_type": "code",
     "collapsed": false,
     "input": [
      "#MAIN\n",
      "\n",
      "comp_df = pd.DataFrame(columns=['EnMD + RP overhead','execution time','data movement time'])\n",
      "err_df = pd.DataFrame(columns=['EnMD + RP overhead','execution time','data movement time'])\n",
      "\n",
      "for s in size:\n",
      "    df_list=[]\n",
      "    for iter in range(1,trials+1):\n",
      "        df = pd.read_pickle('experiment_iter{0}_p{1}_i{1}/exp_{1}_{1}.pkl'.format(iter,s))\n",
      "        df_list.append(df[:9])\n",
      "        #print df[:9]\n",
      "    df_list=wrangle(df_list)\n",
      "    [overhead,exec_time, data_time],errors = mine(df_list)\n",
      "    #print [overhead,exec_time, data_time],errors\n",
      "    comp_df.loc['{0}/{0}'.format(s)] = overhead, exec_time, data_time\n",
      "    err_df.loc['{0}/{0}'.format(s)] = errors\n",
      "dfplot(comp_df,err_df)"
     ],
     "language": "python",
     "metadata": {},
     "outputs": [
      {
       "output_type": "stream",
       "stream": "stdout",
       "text": [
        "         EnMD + RP overhead  execution time  data movement time\n",
        "16/16                     0               0                   0\n",
        "32/32                     0               0                   0\n",
        "64/64                     0               0                   0\n",
        "128/128                   0               0                   0\n"
       ]
      }
     ],
     "prompt_number": 13
    },
    {
     "cell_type": "code",
     "collapsed": false,
     "input": [],
     "language": "python",
     "metadata": {},
     "outputs": []
    }
   ],
   "metadata": {}
  }
 ]
}