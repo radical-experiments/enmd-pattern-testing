{
 "metadata": {
  "name": ""
 },
 "nbformat": 3,
 "nbformat_minor": 0,
 "worksheets": [
  {
   "cells": [
    {
     "cell_type": "code",
     "collapsed": false,
     "input": [
      "#Module setups\n",
      "import pandas as pd\n",
      "import math\n",
      "import numpy as np\n",
      "%matplotlib\n"
     ],
     "language": "python",
     "metadata": {},
     "outputs": [
      {
       "output_type": "stream",
       "stream": "stdout",
       "text": [
        "Using matplotlib backend: TkAgg\n"
       ]
      }
     ],
     "prompt_number": 1
    },
    {
     "cell_type": "code",
     "collapsed": false,
     "input": [
      "#Experiment range\n",
      "trials = 3\n",
      "size = [16,32,64,128,256,512]"
     ],
     "language": "python",
     "metadata": {},
     "outputs": [],
     "prompt_number": 2
    },
    {
     "cell_type": "code",
     "collapsed": false,
     "input": [
      "#Combine the multiple trials into on DF \n",
      "def wrangle(df_list):\n",
      "    df_new = pd.DataFrame(columns=['pattern_entity','value_type','average duration','error'])\n",
      "    #Ignoring the errors within a CU since they are very small\n",
      "    df_new['pattern_entity'] = df_list[0]['pattern_entity']\n",
      "    df_new['value_type']     = df_list[0]['value_type']\n",
      "    df_new['average duration'] = df_list[0]['average duration']\n",
      "    for i in range(1,len(df_list)):\n",
      "        df_new['average duration'] += df_list[i]['average duration']\n",
      "    df_new['average duration'] = df_new['average duration']/len(df_list)\n",
      "    for i in range(0,len(df_list[0])):\n",
      "        temp=[]\n",
      "        for j in range(0,len(df_list)):\n",
      "            temp.append(df_list[j]['average duration'][i])\n",
      "        df_new['error'].loc[i] = np.std(temp)/math.sqrt(len(df_list)) # Stderr/sqrt(N)\n",
      "    #print df_new\n",
      "    return df_new"
     ],
     "language": "python",
     "metadata": {},
     "outputs": [],
     "prompt_number": 3
    },
    {
     "cell_type": "code",
     "collapsed": false,
     "input": [
      "#Mine the wrangled DF for required data\n",
      "def mine(df_list):\n",
      "    #print df_list\n",
      "    \n",
      "    total_time = df_list.loc[0]['average duration'] + df_list.loc[3]['average duration'] + df_list.loc[6]['average duration']\n",
      "    exec_time = df_list.loc[1]['average duration'] + df_list.loc[4]['average duration'] + df_list.loc[7]['average duration']\n",
      "    data_time = df_list.loc[2]['average duration'] + df_list.loc[5]['average duration'] + df_list.loc[8]['average duration']\n",
      "    overhead = total_time - exec_time - data_time\n",
      "    \n",
      "    pre_loop_exec_time = df_list.loc[1]['average duration'] \n",
      "    sim_exec_time = df_list.loc[4]['average duration'] \n",
      "    ana_exec_time = df_list.loc[7]['average duration']\n",
      "     \n",
      "    pre_loop_exec_time_err = df_list.loc[1]['error']\n",
      "    sim_exec_time_err = df_list.loc[4]['error']\n",
      "    ana_exec_time_err = df_list.loc[7]['error']\n",
      "    \n",
      "    \n",
      "    local_remote_data_time = df_list.loc[2]['average duration']\n",
      "    remote_remote_data_time = df_list.loc[5]['average duration'] + df_list.loc[8]['average duration']\n",
      "    \n",
      "    local_remote_data_time_err = df_list.loc[2]['error']\n",
      "    remote_remote_data_time_err = math.sqrt(df_list.loc[5]['error']*df_list.loc[5]['error'] + \n",
      "                              df_list.loc[8]['error']*df_list.loc[8]['error'])\n",
      "    \n",
      "    total_time_err = math.sqrt(df_list.loc[0]['error']*df_list.loc[0]['error'] + \n",
      "                                df_list.loc[3]['error']*df_list.loc[3]['error'] + \n",
      "                                df_list.loc[6]['error']*df_list.loc[6]['error'])\n",
      "    exec_time_err = math.sqrt(df_list.loc[1]['error']*df_list.loc[1]['error'] + \n",
      "                                df_list.loc[4]['error']*df_list.loc[4]['error'] + \n",
      "                                df_list.loc[7]['error']*df_list.loc[7]['error'])\n",
      "    \n",
      "    data_time_err = math.sqrt(df_list.loc[2]['error']*df_list.loc[2]['error'] + \n",
      "                              df_list.loc[5]['error']*df_list.loc[5]['error'] + \n",
      "                              df_list.loc[8]['error']*df_list.loc[8]['error'])\n",
      "    \n",
      "    overhead_err = math.sqrt(math.pow(total_time_err,2)+math.pow(exec_time_err,2)+math.pow(data_time_err,2))\n",
      "    #return [[overhead,exec_time,data_time],[overhead_err,exec_time_err,data_time_err]]\n",
      "    #return [[overhead,pre_loop_exec_time,sim_exec_time,ana_exec_time,data_time],[overhead_err,pre_loop_exec_time_err,sim_exec_time_err,ana_exec_time_err,data_time_err]]\n",
      "    return [[overhead,pre_loop_exec_time,sim_exec_time,ana_exec_time,local_remote_data_time,remote_remote_data_time],[overhead_err,pre_loop_exec_time_err,sim_exec_time_err,ana_exec_time_err,local_remote_data_time_err,remote_remote_data_time_err]]"
     ],
     "language": "python",
     "metadata": {},
     "outputs": [],
     "prompt_number": 4
    },
    {
     "cell_type": "code",
     "collapsed": false,
     "input": [
      "#Plot the mined DF\n",
      "def dfplot(df,err_df):\n",
      "    ax = df.plot(kind='bar',stacked=True,color=['grey','purple','yellow','red','blue','green','orange'],rot=0,ylim=(0,5000),\n",
      "            title='EnMD Simulation Analysis Loop pattern with Amber-CoCo on XSEDE.Stampede',yerr=err_df)\n",
      "    ax.set_xlabel('Cores/Simulation instances (Number of analysis instances = 1)')\n",
      "    ax.set_ylabel('Time (seconds)')"
     ],
     "language": "python",
     "metadata": {},
     "outputs": [],
     "prompt_number": 15
    },
    {
     "cell_type": "code",
     "collapsed": false,
     "input": [
      "def enmd_overhead(comp_df,err_df):\n",
      "    \n",
      "    comp_df_new = pd.DataFrame(columns=['EnMD overhead','RP overhead','pre_loop execution time','sim execution time','ana execution time','L->R data time','R->R data time'])\n",
      "    err_df_new = pd.DataFrame(columns=['EnMD overhead','RP overhead','pre_loop execution time','sim execution time','ana execution time','L->R data time','R->R data time'])\n",
      "    \n",
      "    comp_df_new['pre_loop execution time'] = comp_df['pre_loop execution time']\n",
      "    comp_df_new['sim execution time'] = comp_df['sim execution time']\n",
      "    comp_df_new['ana execution time'] = comp_df['ana execution time']\n",
      "    comp_df_new['L->R data time'] = comp_df['L->R data time']\n",
      "    comp_df_new['R->R data time'] = comp_df['R->R data time']\n",
      "    comp_df_new['EnMD overhead'] = [6.24682533333,11.0209406667,19.3397816667,38.2020246667,60.6845623333,119.654469667]\n",
      "    comp_df_new['RP overhead'] = comp_df['EnMD + RP overhead'] - comp_df_new['EnMD overhead']\n",
      "    \n",
      "    err_df_new['pre_loop execution time'] = err_df['pre_loop execution time']\n",
      "    err_df_new['sim execution time'] = err_df['sim execution time']\n",
      "    err_df_new['ana execution time'] = err_df['ana execution time']\n",
      "    err_df_new['L->R data time'] = err_df['L->R data time']\n",
      "    err_df_new['R->R data time'] = err_df['R->R data time']\n",
      "    err_df_new['EnMD overhead'] = [0.111467048421,0.284108999263,0.146780249865,0.592374663224,0.304362848025,0.613862910908]\n",
      "    \n",
      "    temp=[]\n",
      "    for i in range(0,len(comp_df)):\n",
      "        temp.append(math.sqrt(err_df['EnMD + RP overhead'][i]*err_df['EnMD + RP overhead'][i] + err_df_new['EnMD overhead'][i]*err_df_new['EnMD overhead'][i]))\n",
      "    \n",
      "    err_df_new['RP overhead'] = temp\n",
      "    return comp_df_new, err_df_new"
     ],
     "language": "python",
     "metadata": {},
     "outputs": [],
     "prompt_number": 16
    },
    {
     "cell_type": "code",
     "collapsed": false,
     "input": [
      "#MAIN\n",
      "\n",
      "#comp_df = pd.DataFrame(columns=['EnMD + RP overhead','execution time','data movement time'])\n",
      "#err_df = pd.DataFrame(columns=['EnMD + RP overhead','execution time','data movement time'])\n",
      "\n",
      "comp_df = pd.DataFrame(columns=['EnMD + RP overhead','pre_loop execution time','sim execution time','ana execution time','L->R data time','R->R data time'])\n",
      "err_df = pd.DataFrame(columns=['EnMD + RP overhead','pre_loop execution time','sim execution time','ana execution time','L->R data time','R->R data time'])\n",
      "\n",
      "for s in size:\n",
      "    df_list=[]\n",
      "    for iter in range(1,trials+1):\n",
      "        df = pd.read_pickle('coam-on-stampede/experiment_iter{0}_p{1}_i{1}/exp_{1}_{1}.pkl'.format(iter,s))\n",
      "        df_list.append(df[:9])\n",
      "        #print df[:9]\n",
      "    df_list=wrangle(df_list)\n",
      "    averages,errors = mine(df_list)\n",
      "    #print [overhead,exec_time, data_time],errors\n",
      "    comp_df.loc['{0}/{0}'.format(s)] = averages\n",
      "    err_df.loc['{0}/{0}'.format(s)] = errors\n",
      "    \n",
      "comp_df,err_df = enmd_overhead(comp_df,err_df)\n",
      "dfplot(comp_df,err_df)"
     ],
     "language": "python",
     "metadata": {},
     "outputs": [],
     "prompt_number": 17
    },
    {
     "cell_type": "code",
     "collapsed": false,
     "input": [],
     "language": "python",
     "metadata": {},
     "outputs": []
    }
   ],
   "metadata": {}
  }
 ]
}