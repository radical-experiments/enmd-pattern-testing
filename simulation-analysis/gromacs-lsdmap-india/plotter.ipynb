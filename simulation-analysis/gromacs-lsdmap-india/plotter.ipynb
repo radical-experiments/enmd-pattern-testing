{
 "metadata": {
  "name": ""
 },
 "nbformat": 3,
 "nbformat_minor": 0,
 "worksheets": [
  {
   "cells": [
    {
     "cell_type": "code",
     "collapsed": false,
     "input": [
      "import pandas as pd\n",
      "import pylab\n",
      "import os\n",
      "import numpy as np\n",
      "%matplotlib\n",
      "#%matplotlib inline"
     ],
     "language": "python",
     "metadata": {},
     "outputs": [
      {
       "output_type": "stream",
       "stream": "stdout",
       "text": [
        "Using matplotlib backend: TkAgg\n"
       ]
      }
     ],
     "prompt_number": 3
    },
    {
     "cell_type": "code",
     "collapsed": false,
     "input": [
      "#Define the parameters varied and their range\n",
      "ITERS = 1\n",
      "INSTANCES = [16,32,64,128]\n",
      "CORES = [16,32,64,128]"
     ],
     "language": "python",
     "metadata": {},
     "outputs": [],
     "prompt_number": 4
    },
    {
     "cell_type": "code",
     "collapsed": false,
     "input": [
      "#Helper functions\n",
      "\n",
      "def extract(df):\n",
      "    \n",
      "    pre_loop_exec = 0\n",
      "    pre_loop_data = 0\n",
      "    pre_loop_pat = 0\n",
      "    sim_exec = 0\n",
      "    sim_data = 0\n",
      "    sim_pat = 0\n",
      "    ana_exec = 0\n",
      "    ana_data = 0\n",
      "    ana_pat = 0\n",
      "    \n",
      "    ttc = 0\n",
      "    tte = 0\n",
      "        \n",
      "    for row in df.iterrows():\n",
      "        entity=row[1]['pattern_entity']\n",
      "        step = entity.split('_')[0]\n",
      "        value=row[1]['value_type']\n",
      "        start = row[1]['first_started_abs']\n",
      "        stop = row[1]['last_finished_abs']\n",
      "        \n",
      "        \n",
      "        ## PRE LOOP STUFF\n",
      "        if ((step.startswith('pre')) and (value.startswith('pat'))):\n",
      "            pre_loop_pat = ((stop-start).total_seconds())\n",
      "            \n",
      "        elif ((step.startswith('pre')) and (value.startswith('exec'))):\n",
      "            pre_loop_exec = ((stop-start).total_seconds())\n",
      "            \n",
      "        elif ((step.startswith('pre')) and (value.startswith('data'))):\n",
      "            pre_loop_data += ((stop-start).total_seconds())\n",
      "            \n",
      "        ## SIMULATION STUFF\n",
      "        elif((step.startswith('sim')) and (value.startswith('pat'))):             \n",
      "            sim_pat = ((stop-start).total_seconds())\n",
      "        \n",
      "        elif((step.startswith('sim')) and (value.startswith('exe'))):        \n",
      "            sim_exec = ((stop-start).total_seconds())\n",
      "            \n",
      "        elif((step.startswith('sim')) and (value.startswith('data'))):        \n",
      "            sim_data += ((stop-start).total_seconds())\n",
      "        \n",
      "        \n",
      "        ## ANALYSIS STUFF\n",
      "        elif((step.startswith('ana')) and (value.startswith('pat'))):\n",
      "            ana_pat = ((stop-start).total_seconds())\n",
      "            \n",
      "        elif((step.startswith('ana')) and (value.startswith('exe'))):\n",
      "            ana_exec = ((stop-start).total_seconds())\n",
      "            \n",
      "        elif((step.startswith('ana')) and (value.startswith('data'))):\n",
      "            ana_data = ((stop-start).total_seconds())\n",
      "            \n",
      "    overhead = (pre_loop_pat-pre_loop_exec) + (sim_pat-sim_exec) + (ana_pat-ana_exec)\n",
      "    #print 'pre: ',pre_loop_pat,pre_loop_exec,pre_loop_data\n",
      "    #print 'sim: ',sim_pat,sim_exec,sim_data\n",
      "    #print 'ana: ',ana_pat,ana_exec,ana_data\n",
      "    data = pre_loop_data + sim_data + ana_data\n",
      "    series = [pre_loop_exec,sim_exec,ana_exec,data,overhead] \n",
      "    return series\n",
      "\n",
      "def filter(dflist):\n",
      "    iters = len(dflist)\n",
      "    datalist = []\n",
      "    for df in dflist:\n",
      "        data = pd.DataFrame(df,columns=['pattern_entity','value_type','first_started_abs','last_finished_abs'])\n",
      "        filtered_data = extract(data)\n",
      "    \n",
      "    return filtered_data\n",
      "\n"
     ],
     "language": "python",
     "metadata": {},
     "outputs": [],
     "prompt_number": 5
    },
    {
     "cell_type": "code",
     "collapsed": false,
     "input": [
      "table_vals = pd.DataFrame(columns=['Pre-loop exec time','Simulation exec time','Analysis exec time','Data Movement','Overhead'])\n",
      "table_errs = pd.DataFrame(columns=['Simulation Time','Analysis Time','Data Movement','Overhead'])\n",
      "for size in CORES:\n",
      "    for inst in INSTANCES:\n",
      "        if(inst==size):\n",
      "            dflist=[]\n",
      "            #for iter in range(1,ITERS+1):\n",
      "            df=pd.read_pickle('experiment_iter1_p{1}_i{2}/exp_{1}_{2}.pkl'.format(iter,size,inst))\n",
      "            dflist.append(df)\n",
      "            [pre_loop,sim,ana,data,overhead]=filter(dflist)\n",
      "            table_vals.loc['{0}/{1}'.format(size,inst)] = [pre_loop,sim,ana,data,overhead]\n",
      "            #table_errs.loc['{0}/{1}'.format(size,inst)] = [sim[1],ana[1],data[1],ttc[1]-tte[1]-data[1]]\n",
      "#ax = table_vals.plot(kind='bar',stacked=True,yerr=table_errs,title='Simulation-Analysis Stampede - Gromacs - Total time Split-up'.format(size),fontsize=22,color=['red','green','grey','black'],style='-o')\n",
      "ax = table_vals.plot(kind='bar',stacked=True,title='Simulation-Analysis FG.India - Gromacs'.format(size),color=['yellow','red','green','grey','black'],style='-o')\n",
      "#ax.set_ylabel('Total time (seconds)',fontsize=22)\n",
      "ax.set_ylabel('Total time (seconds)')\n",
      "#ax.set_xlabel('Cores / Simulation Instances (Simulation instances takes 1 core each, Analysis CU takes all cores)'.format(size),fontsize=22)\n",
      "ax.set_xlabel('Cores / Simulation Instances (Simulation instances takes 1 core each, Analysis CU takes all cores)'.format(size))\n",
      "#ax.legend(fontsize=30)\n",
      "#ax.set_title(ax.get_title(),fontsize=30)"
     ],
     "language": "python",
     "metadata": {},
     "outputs": [
      {
       "metadata": {},
       "output_type": "pyout",
       "prompt_number": 6,
       "text": [
        "<matplotlib.text.Text at 0x7f5370b3ba50>"
       ]
      }
     ],
     "prompt_number": 6
    },
    {
     "cell_type": "code",
     "collapsed": false,
     "input": [],
     "language": "python",
     "metadata": {},
     "outputs": []
    }
   ],
   "metadata": {}
  }
 ]
}