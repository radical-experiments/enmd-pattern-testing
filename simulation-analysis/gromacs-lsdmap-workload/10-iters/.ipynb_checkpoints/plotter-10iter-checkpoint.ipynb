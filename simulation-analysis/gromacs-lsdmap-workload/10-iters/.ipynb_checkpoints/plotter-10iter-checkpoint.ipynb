{
 "metadata": {
  "name": ""
 },
 "nbformat": 3,
 "nbformat_minor": 0,
 "worksheets": [
  {
   "cells": [
    {
     "cell_type": "code",
     "collapsed": false,
     "input": [
      "import pandas as pd\n",
      "import pylab\n",
      "import os\n",
      "import numpy as np\n",
      "%matplotlib\n",
      "#%matplotlib inline"
     ],
     "language": "python",
     "metadata": {},
     "outputs": [
      {
       "output_type": "stream",
       "stream": "stdout",
       "text": [
        "Using matplotlib backend: TkAgg\n"
       ]
      }
     ],
     "prompt_number": 128
    },
    {
     "cell_type": "code",
     "collapsed": false,
     "input": [
      "ITERS=1\n",
      "INSTANCES = [16,64,128,256,512]\n",
      "CORES = [16,64,128,256,512]"
     ],
     "language": "python",
     "metadata": {},
     "outputs": [],
     "prompt_number": 129
    },
    {
     "cell_type": "code",
     "collapsed": false,
     "input": [
      "#Helper functions\n",
      "\n",
      "def neutralizeAnalysis(df):\n",
      "    df=df.loc[df['Type'].isin(['ana'])]\n",
      "    sum=0\n",
      "    for row in df.iterrows():\n",
      "        sum+=row[1]['Execution Time']\n",
      "    return round((sum/10),3)\n",
      "\n",
      "def createDF(df):\n",
      "    df=pd.DataFrame(df,columns=['pattern_entity','value_type','first_started_abs','last_finished_abs']).fillna(0)\n",
      "    df=df.loc[df['value_type'].isin(['execution'])]\n",
      "    dfNew = pd.DataFrame(columns=['Stage','Type','Execution Time'])\n",
      "    r=0\n",
      "    i=1\n",
      "    for row in df.iterrows():\n",
      "        if row[1]['pattern_entity'].startswith('sim'):\n",
      "            dfNew.loc[r] = ['Simulation-iter-{0}'.format(i),'sim',(row[1]['last_finished_abs']-row[1]['first_started_abs']).total_seconds()]\n",
      "        else:\n",
      "            dfNew.loc[r] = ['Analysis-iter-{0}'.format(i),'ana',(row[1]['last_finished_abs']-row[1]['first_started_abs']).total_seconds()]\n",
      "            i+=1\n",
      "        r+=1\n",
      "    value = neutralizeAnalysis(dfNew)\n",
      "    dfNew = dfNew.replace('0.000',value).drop('Type',axis=1)\n",
      "    l = list()\n",
      "    for row in dfNew.iterrows():\n",
      "        l.append(row[1]['Execution Time'])\n",
      "    return l"
     ],
     "language": "python",
     "metadata": {},
     "outputs": [],
     "prompt_number": 130
    },
    {
     "cell_type": "code",
     "collapsed": false,
     "input": [
      "iters=10\n",
      "cols=[]\n",
      "for i in range(0,iters):\n",
      "        cols.append('Sim{0}'.format(i+1))\n",
      "        cols.append('Ana{0}'.format(i+1))\n",
      "#print cols\n",
      "tableau20 = [(31, 119, 180), (174, 199, 232), (255, 127, 14), (255, 187, 120),  \n",
      "             (44, 160, 44), (152, 223, 138), (214, 39, 40), (255, 152, 150),  \n",
      "             (148, 103, 189), (197, 176, 213), (140, 86, 75), (196, 156, 148),  \n",
      "             (227, 119, 194), (247, 182, 210), (127, 127, 127), (199, 199, 199),  \n",
      "             (188, 189, 34), (219, 219, 141), (23, 190, 207), (158, 218, 229)]\n",
      "for i in range(len(tableau20)):  \n",
      "    r, g, b = tableau20[i]  \n",
      "    tableau20[i] = (r / 255., g / 255., b / 255.)  \n",
      "table_vals = pd.DataFrame(columns=cols)\n",
      "#print table_vals\n",
      "#table_errs = pd.DataFrame(columns=['Sim1','Ana1','Overhead'])\n",
      "for size in CORES:\n",
      "    for inst in INSTANCES:\n",
      "        if(inst==size):\n",
      "            df = pd.read_pickle('data/exp_{1}_{2}.pkl'.format(iter,size,inst))\n",
      "            ls = createDF(df)\n",
      "            #print df['Execution Time']\n",
      "            table_vals.loc['{0}/{1}'.format(size,inst)] = ls\n",
      "            #table_errs.loc['{0}/{1}'.format(size,inst)] = [sim[1],ana[1],ttc[1]-tte[1]]\n",
      "#print table_vals\n",
      "ax = table_vals.plot(kind='bar',title='Simulation-Analysis-Loop Stampede - Gromacs-LSDMap - 10 iterations'.format(size),color=tableau20)\n",
      "ax.set_ylabel('Total time (seconds)')\n",
      "ax.set_xlabel('Pilot Size / Simulation Instances (Simulation CU takes 1 core each, Analysis CU takes cores=Pilot Size)'.format(size))\n"
     ],
     "language": "python",
     "metadata": {},
     "outputs": [
      {
       "output_type": "stream",
       "stream": "stdout",
       "text": [
        "Empty DataFrame\n",
        "Columns: [Sim1, Ana1, Sim2, Ana2, Sim3, Ana3, Sim4, Ana4, Sim5, Ana5, Sim6, Ana6, Sim7, Ana7, Sim8, Ana8, Sim9, Ana9, Sim10, Ana10]\n",
        "Index: []\n"
       ]
      },
      {
       "metadata": {},
       "output_type": "pyout",
       "prompt_number": 138,
       "text": [
        "<matplotlib.text.Text at 0x7fcc72a1f1d0>"
       ]
      }
     ],
     "prompt_number": 138
    },
    {
     "cell_type": "code",
     "collapsed": false,
     "input": [],
     "language": "python",
     "metadata": {},
     "outputs": [],
     "prompt_number": 114
    },
    {
     "cell_type": "code",
     "collapsed": false,
     "input": [],
     "language": "python",
     "metadata": {},
     "outputs": []
    }
   ],
   "metadata": {}
  }
 ]
}