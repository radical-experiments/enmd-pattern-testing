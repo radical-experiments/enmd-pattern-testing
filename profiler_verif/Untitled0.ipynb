{
 "metadata": {
  "name": ""
 },
 "nbformat": 3,
 "nbformat_minor": 0,
 "worksheets": [
  {
   "cells": [
    {
     "cell_type": "code",
     "collapsed": false,
     "input": [
      "import pandas as pd\n",
      "import glob\n",
      "%matplotlib"
     ],
     "language": "python",
     "metadata": {},
     "outputs": [
      {
       "output_type": "stream",
       "stream": "stdout",
       "text": [
        "Using matplotlib backend: TkAgg\n"
       ]
      }
     ],
     "prompt_number": 2
    },
    {
     "cell_type": "code",
     "collapsed": false,
     "input": [
      "instances = [16,32,64,128]"
     ],
     "language": "python",
     "metadata": {},
     "outputs": [],
     "prompt_number": 3
    },
    {
     "cell_type": "code",
     "collapsed": false,
     "input": [
      "def extract_time(entity, record, inst):\n",
      "    if entity == 'data':\n",
      "        df = record[['StagingInput','AllocatingPending','AgentStagingOutputPending','Done']]\n",
      "        t_sim_data_in = max(df['AllocatingPending'][:inst-1]) - min(df['StagingInput'][:inst-1])\n",
      "        t_sim_data_out = max(df['Done'][:inst-1]) - min(df['AgentStagingOutputPending'][:inst-1])\n",
      "        t_ana_data_in = df['AllocatingPending'][inst] - df['StagingInput'][inst]\n",
      "        t_ana_data_out = df['Done'][inst] - df['AgentStagingOutputPending'][inst]\n",
      "        \n",
      "        t_data_in = t_sim_data_in + t_ana_data_in\n",
      "        t_data_out = t_sim_data_out + t_ana_data_out\n",
      "        \n",
      "        return (t_data_in + t_data_out)\n",
      "    \n",
      "    elif entity == 'exec':\n",
      "        df = record[['Executing','AgentStagingOutputPending']]\n",
      "        t_sim_exec = max(df['AgentStagingOutputPending'][:inst-1]) - min(df['Executing'][:inst-1])\n",
      "        t_ana_exec = df['AgentStagingOutputPending'][inst] - df['Executing'][inst]\n",
      "        \n",
      "        t_exec = t_sim_exec + t_ana_exec\n",
      "        \n",
      "        return t_exec                    "
     ],
     "language": "python",
     "metadata": {},
     "outputs": [],
     "prompt_number": 33
    },
    {
     "cell_type": "code",
     "collapsed": false,
     "input": [
      "# EnMD Profiling\n",
      "\n",
      "enmd_df = pd.DataFrame(columns=['data','exec'])\n",
      "\n",
      "for inst in instances:\n",
      "    fname = glob.glob(\"enmd_data/data_{0}/execution*.csv\".format(inst))[0]\n",
      "    record = pd.read_csv(fname, header=0, sep=\",\", skipinitialspace=True)\n",
      "    \n",
      "    t_data = extract_time('data', record, inst)    \n",
      "    t_exec = extract_time('exec', record, inst)\n",
      "    \n",
      "    enmd_df.loc['{0}/{0}'.format(inst)] = [t_data, t_exec]\n",
      "\n",
      "print enmd_df"
     ],
     "language": "python",
     "metadata": {},
     "outputs": [
      {
       "output_type": "stream",
       "stream": "stdout",
       "text": [
        "          data   exec\n",
        "16/16    10.23  19.24\n",
        "32/32    10.46  18.21\n",
        "64/64    16.13  19.34\n",
        "128/128  30.15  27.93\n"
       ]
      }
     ],
     "prompt_number": 34
    },
    {
     "cell_type": "code",
     "collapsed": false,
     "input": [
      "entk_df = pd.DataFrame(columns=['data','exec'])\n",
      "\n",
      "for inst in instances:\n",
      "    fname = glob.glob(\"entk_data/data_{0}/execution*.csv\".format(inst))[0]\n",
      "    record = pd.read_csv(fname, header=0, sep=\",\")\n",
      "    \n",
      "    t_data = extract_time('data', record, inst)    \n",
      "    t_exec = extract_time('exec', record, inst)\n",
      "    \n",
      "    entk_df.loc['{0}/{0}'.format(inst)] = [t_data, t_exec]\n",
      "\n",
      "print entk_df"
     ],
     "language": "python",
     "metadata": {},
     "outputs": [
      {
       "output_type": "stream",
       "stream": "stdout",
       "text": [
        "              data       exec\n",
        "16/16    15.512508  18.506798\n",
        "32/32    16.606329  19.606929\n",
        "64/64    19.887982  18.143479\n",
        "128/128  36.139853  21.959522\n"
       ]
      }
     ],
     "prompt_number": 35
    },
    {
     "cell_type": "code",
     "collapsed": false,
     "input": [
      "def plot(exec_df, data_df):\n",
      "    \n",
      "    ax = exec_df.plot(kind='line',title='Execution times obtained from EnMD, EnTK', marker=\"*\")\n",
      "    ax.set_xlabel('Cores, Instances')\n",
      "    ax.set_ylabel('Execution time (secs)')\n",
      "    \n",
      "    #ax = data_df.plot(kind='line',title='Data (no actual data) timestamps obtained from EnMD, EnTK', marker=\"*\")\n",
      "    #ax.set_xlabel('Cores, Instances')\n",
      "    #ax.set_ylabel('Data staging state transition time (secs)')"
     ],
     "language": "python",
     "metadata": {},
     "outputs": [],
     "prompt_number": 36
    },
    {
     "cell_type": "code",
     "collapsed": false,
     "input": [
      "exec_df = pd.DataFrame(columns=['enmd','entk','delta'])\n",
      "data_df = pd.DataFrame(columns=['enmd','entk','delta'])\n",
      "\n",
      "for inst in instances:\n",
      "    enmd_fname = glob.glob(\"enmd_data/data_{0}/execution*.csv\".format(inst))[0]\n",
      "    enmd_record = pd.read_csv(enmd_fname, header=0, sep=\",\", skipinitialspace=True)\n",
      "    t_exec_enmd = extract_time('exec', enmd_record, inst)\n",
      "    t_data_enmd = extract_time('data', enmd_record, inst)\n",
      "    \n",
      "    entk_fname = glob.glob(\"entk_data/data_{0}/execution*.csv\".format(inst))[0]\n",
      "    entk_record = pd.read_csv(entk_fname, header=0, sep=\",\")\n",
      "    t_exec_entk = extract_time('exec', entk_record, inst)\n",
      "    t_data_entk = extract_time('data', entk_record, inst)\n",
      "    \n",
      "    exec_df.loc['{0},{0}'.format(inst)] = [t_exec_enmd, t_exec_entk, abs(t_exec_enmd-t_exec_entk)]\n",
      "    data_df.loc['{0},{0}'.format(inst)] = [t_data_enmd, t_data_entk, abs(t_data_enmd-t_data_entk)]\n",
      "    \n",
      "plot(exec_df, data_df)"
     ],
     "language": "python",
     "metadata": {},
     "outputs": [],
     "prompt_number": 38
    },
    {
     "cell_type": "code",
     "collapsed": false,
     "input": [
      "print exec_df"
     ],
     "language": "python",
     "metadata": {},
     "outputs": [
      {
       "output_type": "stream",
       "stream": "stdout",
       "text": [
        "          enmd       entk\n",
        "16,16    27.91  26.519127\n",
        "32,32    29.74  29.066897\n",
        "64,64    33.11  33.566867\n",
        "128,128  44.88  42.946911\n"
       ]
      }
     ],
     "prompt_number": 24
    },
    {
     "cell_type": "code",
     "collapsed": false,
     "input": [
      "print data_df"
     ],
     "language": "python",
     "metadata": {},
     "outputs": [
      {
       "output_type": "stream",
       "stream": "stdout",
       "text": [
        "          enmd       entk\n",
        "16,16    42.98  46.898507\n",
        "32,32    47.31  50.592209\n",
        "64,64    54.29  61.325536\n",
        "128,128  76.41  88.948518\n"
       ]
      }
     ],
     "prompt_number": 25
    },
    {
     "cell_type": "code",
     "collapsed": false,
     "input": [],
     "language": "python",
     "metadata": {},
     "outputs": []
    }
   ],
   "metadata": {}
  }
 ]
}