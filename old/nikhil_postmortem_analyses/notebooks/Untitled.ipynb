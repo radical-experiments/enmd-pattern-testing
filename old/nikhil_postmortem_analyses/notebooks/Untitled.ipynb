{
 "cells": [
  {
   "cell_type": "code",
   "execution_count": 27,
   "metadata": {
    "collapsed": true
   },
   "outputs": [],
   "source": [
    "%matplotlib inline\n",
    "\n",
    "import pandas as pd\n",
    "import matplotlib.pyplot as plt\n",
    "import numpy as np\n",
    "import pprint\n",
    "import csv\n",
    "import datetime\n",
    "import math\n",
    "\n",
    "\n",
    "path = path = \"/home/shenoy/Documents/Nikhil/research/enmd-pattern-testing/old/nikhil_postmortem_analyses/strong_scaling/temp/\"\n"
   ]
  },
  {
   "cell_type": "code",
   "execution_count": 28,
   "metadata": {
    "collapsed": true
   },
   "outputs": [],
   "source": [
    "def extract_time(t1,t2,t3=None,t4=None):\n",
    "    \n",
    "    if isinstance(t1,float) and isinstance(t2,float) and isinstance(t3,float) and isinstance(t4,float):\n",
    "        return (t2-t1)+(t4-t3)\n",
    "\n",
    "    if isinstance(t1,float) and isinstance(t2,float) and t3 is None and t4 is None:\n",
    "        return t2-t1\n",
    "    \n",
    "    if isinstance(t1,basestring):\n",
    "        try:\n",
    "            t1 = datetime.datetime.strptime(t1, \"%Y-%m-%d %H:%M:%S.%f\")\n",
    "        except:\n",
    "            t1 = datetime.datetime.strptime(t1, \"%Y-%m-%d %H:%M:%S\")\n",
    "    \n",
    "    if isinstance(t2,basestring):\n",
    "        try:\n",
    "            t2  = datetime.datetime.strptime(t2, \"%Y-%m-%d %H:%M:%S.%f\")\n",
    "        except:\n",
    "            t2  = datetime.datetime.strptime(t2, \"%Y-%m-%d %H:%M:%S\")\n",
    "\n",
    "    if t3 is not None and isinstance(t3,basestring):\n",
    "        \n",
    "        try:\n",
    "            t3   = datetime.datetime.strptime(t3, \"%Y-%m-%d %H:%M:%S.%f\")\n",
    "        except:\n",
    "            t3   = datetime.datetime.strptime(t3, \"%Y-%m-%d %H:%M:%S\")\n",
    "    \n",
    "    if t4 is not None and isinstance(t4,basestring):\n",
    "        try:\n",
    "            t4  = datetime.datetime.strptime(t4, \"%Y-%m-%d %H:%M:%S.%f\")\n",
    "        except:\n",
    "            t4  = datetime.datetime.strptime(t4, \"%Y-%m-%d %H:%M:%S\")\n",
    "            \n",
    "            \n",
    "        return ((t2-t1)+(t4-t3)).total_seconds()\n",
    "    \n",
    "    else:\n",
    "        if t3 is not None and t4 is not None:\n",
    "            return ((t2-t1)+(t4-t3)).total_seconds()\n",
    "        else:        \n",
    "            return (t2-t1).total_seconds()"
   ]
  },
  {
   "cell_type": "code",
   "execution_count": 34,
   "metadata": {
    "collapsed": false
   },
   "outputs": [
    {
     "name": "stdout",
     "output_type": "stream",
     "text": [
      "           uid   iter  step           uid        step.1    Scheduling  \\\n",
      "0  unit.000022      1   sim  1.456696e+09  1.456696e+09  1.456696e+09   \n",
      "1  unit.000023      1   ana  1.456696e+09  1.456696e+09  1.456696e+09   \n",
      "\n",
      "    StagingInput   AgentStagingInputPending   AgentStagingInput  \\\n",
      "0   1.456696e+09               1.456696e+09        1.456696e+09   \n",
      "1   1.456696e+09               1.456696e+09        1.456696e+09   \n",
      "\n",
      "    AllocatingPending    Allocating   ExecutingPending     Executing  \\\n",
      "0        1.456696e+09  1.456696e+09       1.456696e+09  1.456696e+09   \n",
      "1        1.456696e+09  1.456696e+09       1.456696e+09  1.456696e+09   \n",
      "\n",
      "    AgentStagingOutputPending   AgentStagingOutput   PendingOutputStaging  \\\n",
      "0                1.456696e+09         1.456696e+09           1.456696e+09   \n",
      "1                1.456696e+09         1.456696e+09           1.456696e+09   \n",
      "\n",
      "    StagingOutput   Done  \n",
      "0             NaN    NaN  \n",
      "1             NaN    NaN  \n"
     ]
    }
   ],
   "source": [
    "df = pd.read_csv(path + 'profile_128_0.csv',header=0,sep=',')\n",
    "print df"
   ]
  },
  {
   "cell_type": "code",
   "execution_count": 30,
   "metadata": {
    "collapsed": false
   },
   "outputs": [],
   "source": [
    "def extract_timing_info(df,cores,inst):\n",
    "    \n",
    "    sim_data,ana_data = extract_data_time(df,cores,inst)\n",
    "    sim_exec,ana_exec = extract_exec_time(df,cores,inst)\n",
    "    \n",
    "    return [sim_data,ana_data],[sim_exec,ana_exec]"
   ]
  },
  {
   "cell_type": "code",
   "execution_count": 31,
   "metadata": {
    "collapsed": true
   },
   "outputs": [],
   "source": [
    "def extract_data_time(df,cores,inst):\n",
    "    df\n",
    "    req_df = df[['step','StagingInput','Allocating','AgentStagingOutputPending','Done']]\n",
    "    \n",
    "    #preloop_df = req_df[:1]\n",
    "    sim_df = req_df[1:-2]\n",
    "    ana_df = req_df[-2:]\n",
    "    \n",
    "    #preloop_data = None\n",
    "    sim_data = None\n",
    "    ana_data = None\n",
    "    \n",
    "    \n",
    "    # Preloop extraction\n",
    "    #step,t1,t2,t3,t4 =  preloop_df.loc[0,:]\n",
    "    #preloop_data = extract_time(t1,t2,t3,t4)\n",
    "    \n",
    "    \n",
    "    #Simulation extraction\n",
    "    per_unit_data_time  = list()\n",
    "    for row in sim_df.iterrows():\n",
    "        step,t1,t2,t3,t4 = row[1:][0]\n",
    "        #print t1,t2,t3,t4\n",
    "        #print row\n",
    "        per_unit_data_time.append(extract_time(t1,t2,t3,t4))\n",
    "        \n",
    "    if cores == inst:\n",
    "        kern_1 = per_unit_data_time[:inst]\n",
    "        kern_2 = per_unit_data_time[inst:]\n",
    "        sim_data = np.average(kern_1) + np.average(kern_2)\n",
    "    elif inst > cores:\n",
    "        pass\n",
    "    \n",
    "    \n",
    "    #Analysis extraction\n",
    "    per_unit_data_time  = list()\n",
    "    for row in ana_df.iterrows():\n",
    "        step,t1,t2,t3,t4 = row[1:][0]\n",
    "        #print t1,t2,t3,t4\n",
    "        #print row\n",
    "        per_unit_data_time.append(extract_time(t1,t2,t3,t4))\n",
    "        \n",
    "    ana_data = sum(per_unit_data_time)\n",
    "    \n",
    "    #print preloop_data, sim_data, ana_data\n",
    "    return sim_data, ana_data"
   ]
  },
  {
   "cell_type": "code",
   "execution_count": 32,
   "metadata": {
    "collapsed": true
   },
   "outputs": [],
   "source": [
    "def extract_exec_time(df,cores,inst):\n",
    "    req_df = df[['step','Executing','AgentStagingOutputPending']]\n",
    "    \n",
    "    #preloop_df = req_df[:1]\n",
    "    sim_df = req_df[1:-2]\n",
    "    ana_df = req_df[-2:]\n",
    "    \n",
    "    #preloop_exec = None\n",
    "    sim_exec = None\n",
    "    ana_exec = None\n",
    "    \n",
    "    \n",
    "    # Preloop extraction\n",
    "    #step,t1,t2 =  preloop_df.loc[0,:]\n",
    "    #preloop_exec = extract_time(t1,t2)\n",
    "\n",
    "    \n",
    "    #Simulation extraction\n",
    "    #STUPID ME SET CORES PER CU = 2!!\n",
    "    per_unit_exec_time  = list()\n",
    "    for row in sim_df.iterrows():\n",
    "        step,t1,t2 = row[1:][0]\n",
    "        #print t1,t2,t3,t4\n",
    "        #print row\n",
    "        per_unit_exec_time.append(extract_time(t1,t2))\n",
    "        \n",
    "    if cores == inst:\n",
    "        kern_1 = per_unit_exec_time[:inst]\n",
    "        kern_2 = per_unit_exec_time[inst:]\n",
    "        sim_exec = (np.average(kern_1) + np.average(kern_2))*2\n",
    "    elif inst > cores:\n",
    "        pass\n",
    "    \n",
    "  \n",
    "    \n",
    "    #Analysis extraction\n",
    "    per_unit_exec_time  = list()\n",
    "    for row in ana_df.iterrows():\n",
    "        step,t1,t2 = row[1:][0]\n",
    "        #print t1,t2,t3,t4\n",
    "        #print row\n",
    "        per_unit_exec_time.append(extract_time(t1,t2))\n",
    "        \n",
    "    ana_exec = sum(per_unit_exec_time)\n",
    "    \n",
    "    \n",
    "    #print preloop_exec, sim_exec, ana_exec\n",
    "    return sim_exec, ana_exec"
   ]
  },
  {
   "cell_type": "code",
   "execution_count": 33,
   "metadata": {
    "collapsed": false
   },
   "outputs": [
    {
     "ename": "KeyError",
     "evalue": "\"['step' 'StagingInput' 'Allocating' 'AgentStagingOutputPending' 'Done'] not in index\"",
     "output_type": "error",
     "traceback": [
      "\u001b[1;31m---------------------------------------------------------------------------\u001b[0m",
      "\u001b[1;31mKeyError\u001b[0m                                  Traceback (most recent call last)",
      "\u001b[1;32m<ipython-input-33-1438787d831b>\u001b[0m in \u001b[0;36m<module>\u001b[1;34m()\u001b[0m\n\u001b[1;32m----> 1\u001b[1;33m \u001b[0mdata\u001b[0m\u001b[1;33m,\u001b[0m \u001b[0mexec_list\u001b[0m \u001b[1;33m=\u001b[0m \u001b[0mextract_timing_info\u001b[0m\u001b[1;33m(\u001b[0m\u001b[0mdf\u001b[0m\u001b[1;33m,\u001b[0m\u001b[0mcores\u001b[0m\u001b[1;33m=\u001b[0m\u001b[1;36m128\u001b[0m\u001b[1;33m,\u001b[0m\u001b[0minst\u001b[0m\u001b[1;33m=\u001b[0m\u001b[1;36m128\u001b[0m\u001b[1;33m)\u001b[0m\u001b[1;33m\u001b[0m\u001b[0m\n\u001b[0m",
      "\u001b[1;32m<ipython-input-30-94fe1f0c4b94>\u001b[0m in \u001b[0;36mextract_timing_info\u001b[1;34m(df, cores, inst)\u001b[0m\n\u001b[0;32m      1\u001b[0m \u001b[1;32mdef\u001b[0m \u001b[0mextract_timing_info\u001b[0m\u001b[1;33m(\u001b[0m\u001b[0mdf\u001b[0m\u001b[1;33m,\u001b[0m\u001b[0mcores\u001b[0m\u001b[1;33m,\u001b[0m\u001b[0minst\u001b[0m\u001b[1;33m)\u001b[0m\u001b[1;33m:\u001b[0m\u001b[1;33m\u001b[0m\u001b[0m\n\u001b[0;32m      2\u001b[0m \u001b[1;33m\u001b[0m\u001b[0m\n\u001b[1;32m----> 3\u001b[1;33m     \u001b[0msim_data\u001b[0m\u001b[1;33m,\u001b[0m\u001b[0mana_data\u001b[0m \u001b[1;33m=\u001b[0m \u001b[0mextract_data_time\u001b[0m\u001b[1;33m(\u001b[0m\u001b[0mdf\u001b[0m\u001b[1;33m,\u001b[0m\u001b[0mcores\u001b[0m\u001b[1;33m,\u001b[0m\u001b[0minst\u001b[0m\u001b[1;33m)\u001b[0m\u001b[1;33m\u001b[0m\u001b[0m\n\u001b[0m\u001b[0;32m      4\u001b[0m     \u001b[0msim_exec\u001b[0m\u001b[1;33m,\u001b[0m\u001b[0mana_exec\u001b[0m \u001b[1;33m=\u001b[0m \u001b[0mextract_exec_time\u001b[0m\u001b[1;33m(\u001b[0m\u001b[0mdf\u001b[0m\u001b[1;33m,\u001b[0m\u001b[0mcores\u001b[0m\u001b[1;33m,\u001b[0m\u001b[0minst\u001b[0m\u001b[1;33m)\u001b[0m\u001b[1;33m\u001b[0m\u001b[0m\n\u001b[0;32m      5\u001b[0m \u001b[1;33m\u001b[0m\u001b[0m\n",
      "\u001b[1;32m<ipython-input-31-71efb1576448>\u001b[0m in \u001b[0;36mextract_data_time\u001b[1;34m(df, cores, inst)\u001b[0m\n\u001b[0;32m      1\u001b[0m \u001b[1;32mdef\u001b[0m \u001b[0mextract_data_time\u001b[0m\u001b[1;33m(\u001b[0m\u001b[0mdf\u001b[0m\u001b[1;33m,\u001b[0m\u001b[0mcores\u001b[0m\u001b[1;33m,\u001b[0m\u001b[0minst\u001b[0m\u001b[1;33m)\u001b[0m\u001b[1;33m:\u001b[0m\u001b[1;33m\u001b[0m\u001b[0m\n\u001b[0;32m      2\u001b[0m     \u001b[0mdf\u001b[0m\u001b[1;33m\u001b[0m\u001b[0m\n\u001b[1;32m----> 3\u001b[1;33m     \u001b[0mreq_df\u001b[0m \u001b[1;33m=\u001b[0m \u001b[0mdf\u001b[0m\u001b[1;33m[\u001b[0m\u001b[1;33m[\u001b[0m\u001b[1;34m'step'\u001b[0m\u001b[1;33m,\u001b[0m\u001b[1;34m'StagingInput'\u001b[0m\u001b[1;33m,\u001b[0m\u001b[1;34m'Allocating'\u001b[0m\u001b[1;33m,\u001b[0m\u001b[1;34m'AgentStagingOutputPending'\u001b[0m\u001b[1;33m,\u001b[0m\u001b[1;34m'Done'\u001b[0m\u001b[1;33m]\u001b[0m\u001b[1;33m]\u001b[0m\u001b[1;33m\u001b[0m\u001b[0m\n\u001b[0m\u001b[0;32m      4\u001b[0m \u001b[1;33m\u001b[0m\u001b[0m\n\u001b[0;32m      5\u001b[0m     \u001b[1;31m#preloop_df = req_df[:1]\u001b[0m\u001b[1;33m\u001b[0m\u001b[1;33m\u001b[0m\u001b[0m\n",
      "\u001b[1;32m/home/shenoy/installs/anaconda/lib/python2.7/site-packages/pandas/core/frame.pyc\u001b[0m in \u001b[0;36m__getitem__\u001b[1;34m(self, key)\u001b[0m\n\u001b[0;32m   1789\u001b[0m         \u001b[1;32mif\u001b[0m \u001b[0misinstance\u001b[0m\u001b[1;33m(\u001b[0m\u001b[0mkey\u001b[0m\u001b[1;33m,\u001b[0m \u001b[1;33m(\u001b[0m\u001b[0mSeries\u001b[0m\u001b[1;33m,\u001b[0m \u001b[0mnp\u001b[0m\u001b[1;33m.\u001b[0m\u001b[0mndarray\u001b[0m\u001b[1;33m,\u001b[0m \u001b[0mIndex\u001b[0m\u001b[1;33m,\u001b[0m \u001b[0mlist\u001b[0m\u001b[1;33m)\u001b[0m\u001b[1;33m)\u001b[0m\u001b[1;33m:\u001b[0m\u001b[1;33m\u001b[0m\u001b[0m\n\u001b[0;32m   1790\u001b[0m             \u001b[1;31m# either boolean or fancy integer index\u001b[0m\u001b[1;33m\u001b[0m\u001b[1;33m\u001b[0m\u001b[0m\n\u001b[1;32m-> 1791\u001b[1;33m             \u001b[1;32mreturn\u001b[0m \u001b[0mself\u001b[0m\u001b[1;33m.\u001b[0m\u001b[0m_getitem_array\u001b[0m\u001b[1;33m(\u001b[0m\u001b[0mkey\u001b[0m\u001b[1;33m)\u001b[0m\u001b[1;33m\u001b[0m\u001b[0m\n\u001b[0m\u001b[0;32m   1792\u001b[0m         \u001b[1;32melif\u001b[0m \u001b[0misinstance\u001b[0m\u001b[1;33m(\u001b[0m\u001b[0mkey\u001b[0m\u001b[1;33m,\u001b[0m \u001b[0mDataFrame\u001b[0m\u001b[1;33m)\u001b[0m\u001b[1;33m:\u001b[0m\u001b[1;33m\u001b[0m\u001b[0m\n\u001b[0;32m   1793\u001b[0m             \u001b[1;32mreturn\u001b[0m \u001b[0mself\u001b[0m\u001b[1;33m.\u001b[0m\u001b[0m_getitem_frame\u001b[0m\u001b[1;33m(\u001b[0m\u001b[0mkey\u001b[0m\u001b[1;33m)\u001b[0m\u001b[1;33m\u001b[0m\u001b[0m\n",
      "\u001b[1;32m/home/shenoy/installs/anaconda/lib/python2.7/site-packages/pandas/core/frame.pyc\u001b[0m in \u001b[0;36m_getitem_array\u001b[1;34m(self, key)\u001b[0m\n\u001b[0;32m   1833\u001b[0m             \u001b[1;32mreturn\u001b[0m \u001b[0mself\u001b[0m\u001b[1;33m.\u001b[0m\u001b[0mtake\u001b[0m\u001b[1;33m(\u001b[0m\u001b[0mindexer\u001b[0m\u001b[1;33m,\u001b[0m \u001b[0maxis\u001b[0m\u001b[1;33m=\u001b[0m\u001b[1;36m0\u001b[0m\u001b[1;33m,\u001b[0m \u001b[0mconvert\u001b[0m\u001b[1;33m=\u001b[0m\u001b[0mFalse\u001b[0m\u001b[1;33m)\u001b[0m\u001b[1;33m\u001b[0m\u001b[0m\n\u001b[0;32m   1834\u001b[0m         \u001b[1;32melse\u001b[0m\u001b[1;33m:\u001b[0m\u001b[1;33m\u001b[0m\u001b[0m\n\u001b[1;32m-> 1835\u001b[1;33m             \u001b[0mindexer\u001b[0m \u001b[1;33m=\u001b[0m \u001b[0mself\u001b[0m\u001b[1;33m.\u001b[0m\u001b[0mix\u001b[0m\u001b[1;33m.\u001b[0m\u001b[0m_convert_to_indexer\u001b[0m\u001b[1;33m(\u001b[0m\u001b[0mkey\u001b[0m\u001b[1;33m,\u001b[0m \u001b[0maxis\u001b[0m\u001b[1;33m=\u001b[0m\u001b[1;36m1\u001b[0m\u001b[1;33m)\u001b[0m\u001b[1;33m\u001b[0m\u001b[0m\n\u001b[0m\u001b[0;32m   1836\u001b[0m             \u001b[1;32mreturn\u001b[0m \u001b[0mself\u001b[0m\u001b[1;33m.\u001b[0m\u001b[0mtake\u001b[0m\u001b[1;33m(\u001b[0m\u001b[0mindexer\u001b[0m\u001b[1;33m,\u001b[0m \u001b[0maxis\u001b[0m\u001b[1;33m=\u001b[0m\u001b[1;36m1\u001b[0m\u001b[1;33m,\u001b[0m \u001b[0mconvert\u001b[0m\u001b[1;33m=\u001b[0m\u001b[0mTrue\u001b[0m\u001b[1;33m)\u001b[0m\u001b[1;33m\u001b[0m\u001b[0m\n\u001b[0;32m   1837\u001b[0m \u001b[1;33m\u001b[0m\u001b[0m\n",
      "\u001b[1;32m/home/shenoy/installs/anaconda/lib/python2.7/site-packages/pandas/core/indexing.pyc\u001b[0m in \u001b[0;36m_convert_to_indexer\u001b[1;34m(self, obj, axis, is_setter)\u001b[0m\n\u001b[0;32m   1110\u001b[0m                 \u001b[0mmask\u001b[0m \u001b[1;33m=\u001b[0m \u001b[0mcheck\u001b[0m \u001b[1;33m==\u001b[0m \u001b[1;33m-\u001b[0m\u001b[1;36m1\u001b[0m\u001b[1;33m\u001b[0m\u001b[0m\n\u001b[0;32m   1111\u001b[0m                 \u001b[1;32mif\u001b[0m \u001b[0mmask\u001b[0m\u001b[1;33m.\u001b[0m\u001b[0many\u001b[0m\u001b[1;33m(\u001b[0m\u001b[1;33m)\u001b[0m\u001b[1;33m:\u001b[0m\u001b[1;33m\u001b[0m\u001b[0m\n\u001b[1;32m-> 1112\u001b[1;33m                     \u001b[1;32mraise\u001b[0m \u001b[0mKeyError\u001b[0m\u001b[1;33m(\u001b[0m\u001b[1;34m'%s not in index'\u001b[0m \u001b[1;33m%\u001b[0m \u001b[0mobjarr\u001b[0m\u001b[1;33m[\u001b[0m\u001b[0mmask\u001b[0m\u001b[1;33m]\u001b[0m\u001b[1;33m)\u001b[0m\u001b[1;33m\u001b[0m\u001b[0m\n\u001b[0m\u001b[0;32m   1113\u001b[0m \u001b[1;33m\u001b[0m\u001b[0m\n\u001b[0;32m   1114\u001b[0m                 \u001b[1;32mreturn\u001b[0m \u001b[0m_values_from_object\u001b[0m\u001b[1;33m(\u001b[0m\u001b[0mindexer\u001b[0m\u001b[1;33m)\u001b[0m\u001b[1;33m\u001b[0m\u001b[0m\n",
      "\u001b[1;31mKeyError\u001b[0m: \"['step' 'StagingInput' 'Allocating' 'AgentStagingOutputPending' 'Done'] not in index\""
     ]
    }
   ],
   "source": [
    "data, exec_list = extract_timing_info(df,cores=128,inst=128)"
   ]
  }
 ],
 "metadata": {
  "kernelspec": {
   "display_name": "Python 2",
   "language": "python",
   "name": "python2"
  },
  "language_info": {
   "codemirror_mode": {
    "name": "ipython",
    "version": 2
   },
   "file_extension": ".py",
   "mimetype": "text/x-python",
   "name": "python",
   "nbconvert_exporter": "python",
   "pygments_lexer": "ipython2",
   "version": "2.7.10"
  }
 },
 "nbformat": 4,
 "nbformat_minor": 0
}
