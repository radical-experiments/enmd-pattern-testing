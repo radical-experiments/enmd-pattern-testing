{
 "cells": [
  {
   "cell_type": "code",
   "execution_count": 82,
   "metadata": {
    "collapsed": true
   },
   "outputs": [],
   "source": [
    "%matplotlib inline\n",
    "\n",
    "import pandas as pd\n",
    "import matplotlib.pyplot as plt\n",
    "import numpy as np\n",
    "import pprint\n",
    "import csv\n",
    "import datetime\n",
    "import math\n",
    "\n",
    "\n"
   ]
  },
  {
   "cell_type": "code",
   "execution_count": 83,
   "metadata": {
    "collapsed": false
   },
   "outputs": [],
   "source": [
    "# import and process new data"
   ]
  },
  {
   "cell_type": "code",
   "execution_count": 84,
   "metadata": {
    "collapsed": true
   },
   "outputs": [],
   "source": [
    "def extract_time(t1,t2,t3=None,t4=None):\n",
    "    \n",
    "    try:\n",
    "        t1 = datetime.datetime.strptime(t1, \"%Y-%m-%d %H:%M:%S.%f\")\n",
    "    except:\n",
    "        t1 = datetime.datetime.strptime(t1, \"%Y-%m-%d %H:%M:%S\")\n",
    "        \n",
    "    try:\n",
    "        t2  = datetime.datetime.strptime(t2, \"%Y-%m-%d %H:%M:%S.%f\")\n",
    "    except:\n",
    "        t2  = datetime.datetime.strptime(t2, \"%Y-%m-%d %H:%M:%S\")\n",
    "        \n",
    "    if t3 is not None:\n",
    "        \n",
    "        try:\n",
    "            t3   = datetime.datetime.strptime(t3, \"%Y-%m-%d %H:%M:%S.%f\")\n",
    "        except:\n",
    "            t3   = datetime.datetime.strptime(t3, \"%Y-%m-%d %H:%M:%S\")\n",
    "        \n",
    "        try:\n",
    "            t4  = datetime.datetime.strptime(t4, \"%Y-%m-%d %H:%M:%S.%f\")\n",
    "        except:\n",
    "            t4  = datetime.datetime.strptime(t4, \"%Y-%m-%d %H:%M:%S\")\n",
    "            \n",
    "            \n",
    "        return ((t2-t1)+(t4-t3)).total_seconds()\n",
    "    \n",
    "    else:\n",
    "        return (t2-t1).total_seconds()"
   ]
  },
  {
   "cell_type": "code",
   "execution_count": 85,
   "metadata": {
    "collapsed": true
   },
   "outputs": [],
   "source": [
    "def extract_core_overhead(df):\n",
    "    alloc_start,alloc_stop,dealloc_start,dealloc_stop = df['timestamp']\n",
    "    core_ov = extract_time(alloc_start,alloc_stop,dealloc_start,dealloc_stop)\n",
    "    \n",
    "    return core_ov"
   ]
  },
  {
   "cell_type": "code",
   "execution_count": 86,
   "metadata": {
    "collapsed": true
   },
   "outputs": [],
   "source": [
    "def extract_pat_overhead(df):\n",
    "    #pre_loop_df = df[0:1]\n",
    "    sim_df = df[1:7]\n",
    "    ana_df = df[7:]\n",
    "    \n",
    "    #start,wait,res,stop = pre_loop_df['timestamp']    \n",
    "    #pre_loop_ov = extract_time(start,wait,res,stop)\n",
    "    \n",
    "    \n",
    "    #print sim_df['timestamp']\n",
    "    \n",
    "    start1,wait1,res1,stop1,start2,stop2 = sim_df['timestamp']\n",
    "    part1 = extract_time(start1,wait1,res1,stop1)\n",
    "    #part2 = extract_time(start2,wait2,res2,stop2)\n",
    "    #post = extract_time(post_start,post_stop)    \n",
    "    sim_ov = part1 #+ part2 + post\n",
    "\n",
    "    start1,wait1,res1,stop1,start2,stop2 = ana_df['timestamp']\n",
    "    part1 = extract_time(start1,wait1,res1,stop1)\n",
    "    #part2 = extract_time(start2,wait2,res2,stop2)\n",
    "    #post = extract_time(post_start,post_stop)    \n",
    "    ana_ov = part1 #+ part2 + post\n",
    "    \n",
    "    return sim_ov+ana_ov\n",
    "    "
   ]
  },
  {
   "cell_type": "code",
   "execution_count": 87,
   "metadata": {
    "collapsed": false
   },
   "outputs": [],
   "source": [
    "def extract_timing_info(df,cores,inst):\n",
    "    \n",
    "    sim_data,ana_data = extract_data_time(df,cores,inst)\n",
    "    sim_exec,ana_exec = extract_exec_time(df,cores,inst)\n",
    "    \n",
    "    return [sim_data,ana_data],[sim_exec,ana_exec]"
   ]
  },
  {
   "cell_type": "code",
   "execution_count": 88,
   "metadata": {
    "collapsed": true
   },
   "outputs": [],
   "source": [
    "def extract_data_time(df,cores,inst):\n",
    "    req_df = df[['step','StagingInput','Allocating','PendingAgentOutputStaging','Done']]\n",
    "    \n",
    "    #preloop_df = req_df[:1]\n",
    "    sim_df = req_df[1:-2]\n",
    "    ana_df = req_df[-2:]\n",
    "    \n",
    "    #preloop_data = None\n",
    "    sim_data = None\n",
    "    ana_data = None\n",
    "    \n",
    "    \n",
    "    # Preloop extraction\n",
    "    #step,t1,t2,t3,t4 =  preloop_df.loc[0,:]\n",
    "    #preloop_data = extract_time(t1,t2,t3,t4)\n",
    "    \n",
    "    \n",
    "    #Simulation extraction\n",
    "    per_unit_data_time  = list()\n",
    "    for row in sim_df.iterrows():\n",
    "        step,t1,t2,t3,t4 = row[1:][0]\n",
    "        #print t1,t2,t3,t4\n",
    "        #print row\n",
    "        per_unit_data_time.append(extract_time(t1,t2,t3,t4))\n",
    "        \n",
    "    if cores == inst:\n",
    "        kern_1 = per_unit_data_time[:inst]\n",
    "        kern_2 = per_unit_data_time[inst:]\n",
    "        sim_data = np.average(kern_1) + np.average(kern_2)\n",
    "    elif inst > cores:\n",
    "        pass\n",
    "    \n",
    "    \n",
    "    #Analysis extraction\n",
    "    per_unit_data_time  = list()\n",
    "    for row in ana_df.iterrows():\n",
    "        step,t1,t2,t3,t4 = row[1:][0]\n",
    "        #print t1,t2,t3,t4\n",
    "        #print row\n",
    "        per_unit_data_time.append(extract_time(t1,t2,t3,t4))\n",
    "        \n",
    "    ana_data = sum(per_unit_data_time)\n",
    "    \n",
    "    #print preloop_data, sim_data, ana_data\n",
    "    return sim_data, ana_data"
   ]
  },
  {
   "cell_type": "code",
   "execution_count": 89,
   "metadata": {
    "collapsed": true
   },
   "outputs": [],
   "source": [
    "def extract_exec_time(df,cores,inst):\n",
    "    req_df = df[['step','Executing','PendingAgentOutputStaging']]\n",
    "    \n",
    "    #preloop_df = req_df[:1]\n",
    "    sim_df = req_df[1:-2]\n",
    "    ana_df = req_df[-2:]\n",
    "    \n",
    "    #preloop_exec = None\n",
    "    sim_exec = None\n",
    "    ana_exec = None\n",
    "    \n",
    "    \n",
    "    # Preloop extraction\n",
    "    #step,t1,t2 =  preloop_df.loc[0,:]\n",
    "    #preloop_exec = extract_time(t1,t2)\n",
    "\n",
    "    \n",
    "    #Simulation extraction\n",
    "    #STUPID ME SET CORES PER CU = 2!!\n",
    "    per_unit_exec_time  = list()\n",
    "    for row in sim_df.iterrows():\n",
    "        step,t1,t2 = row[1:][0]\n",
    "        #print t1,t2,t3,t4\n",
    "        #print row\n",
    "        per_unit_exec_time.append(extract_time(t1,t2))\n",
    "        \n",
    "    if cores == inst:\n",
    "        kern_1 = per_unit_exec_time[:inst]\n",
    "        kern_2 = per_unit_exec_time[inst:]\n",
    "        sim_exec = (np.average(kern_1) + np.average(kern_2))*2\n",
    "    elif inst > cores:\n",
    "        pass\n",
    "    \n",
    "  \n",
    "    \n",
    "    #Analysis extraction\n",
    "    per_unit_exec_time  = list()\n",
    "    for row in ana_df.iterrows():\n",
    "        step,t1,t2 = row[1:][0]\n",
    "        #print t1,t2,t3,t4\n",
    "        #print row\n",
    "        per_unit_exec_time.append(extract_time(t1,t2))\n",
    "        \n",
    "    ana_exec = sum(per_unit_exec_time)\n",
    "    \n",
    "    \n",
    "    #print preloop_exec, sim_exec, ana_exec\n",
    "    return sim_exec, ana_exec"
   ]
  },
  {
   "cell_type": "code",
   "execution_count": 90,
   "metadata": {
    "collapsed": true
   },
   "outputs": [],
   "source": [
    "def extract_rp_overhead(df,data,exec_list):\n",
    "    \n",
    "    #pre_loop_df = df[0:1]\n",
    "    sim_df = df[1:7]\n",
    "    ana_df = df[7:]\n",
    "  \n",
    "    '''\n",
    "    start,wait,res,stop = pre_loop_df['timestamp'] \n",
    "    preloop_wait = extract_time(wait,res)\n",
    "    preloop_rp_ov = preloop_wait - data[0] - exec_list[0]\n",
    "    '''\n",
    "    \n",
    "    start1,wait1,res1,stop1,start2,stop2 = sim_df['timestamp']\n",
    "    sim_wait = extract_time(wait1,res1)\n",
    "    sim_rp_ov = sim_wait - data[1] - exec_list[1]\n",
    "    \n",
    "    start1,wait1,res1,stop1,start2,stop2 = ana_df['timestamp']\n",
    "    ana_wait = extract_time(wait1,res1)\n",
    "    ana_rp_ov = ana_wait - data[1] - exec_list[1]\n",
    "    \n",
    "    rp_ov = sim_rp_ov + ana_rp_ov\n",
    "    \n",
    "    \n",
    "    #print preloop_rp_ov, sim_rp_ov, ana_rp_ov\n",
    "    \n",
    "    return rp_ov"
   ]
  },
  {
   "cell_type": "code",
   "execution_count": 91,
   "metadata": {
    "collapsed": true
   },
   "outputs": [],
   "source": [
    "def separate(comp_df,err_df):\n",
    "    ov_df = pd.DataFrame(columns=['EnMD Core overhead',\n",
    "                                'EnMD Pat overhead',\n",
    "                                'RP overhead'])\n",
    "    ov_df_err = pd.DataFrame(columns=['EnMD Core overhead',\n",
    "                                'EnMD Pat overhead',\n",
    "                                'RP overhead'])\n",
    "    ov_df['EnMD Core overhead'] = comp_df['EnMD Core overhead']\n",
    "    ov_df['EnMD Pat overhead'] = comp_df['EnMD Pat overhead']\n",
    "    ov_df['RP overhead'] = comp_df['RP overhead']\n",
    "    \n",
    "    ov_df_err['EnMD Core overhead'] = err_df['EnMD Core overhead']\n",
    "    ov_df_err['EnMD Pat overhead'] = err_df['EnMD Pat overhead']\n",
    "    ov_df_err['RP overhead'] = err_df['RP overhead']\n",
    "    \n",
    "    \n",
    "    \n",
    "    app_df = pd.DataFrame(columns=['pre_loop execution time',\n",
    "                                'sim execution time',\n",
    "                                'ana execution time'])\n",
    "    app_df_err = pd.DataFrame(columns=['pre_loop execution time',\n",
    "                                'sim execution time',\n",
    "                                'ana execution time'])\n",
    "    #app_df['pre_loop execution time'] = comp_df['pre_loop execution time']\n",
    "    app_df['sim execution time'] = comp_df['sim execution time']\n",
    "    app_df['ana execution time'] = comp_df['ana execution time']\n",
    "    \n",
    "    #app_df_err['pre_loop execution time'] = err_df['pre_loop execution time']\n",
    "    app_df_err['sim execution time'] = err_df['sim execution time']\n",
    "    app_df_err['ana execution time'] = err_df['ana execution time']\n",
    "    \n",
    "    \n",
    "    \n",
    "    data_df = pd.DataFrame(columns=['data movement'])\n",
    "    data_df_err = pd.DataFrame(columns=['data movement'])\n",
    "    data_df['data movement'] = comp_df['data movement']\n",
    "    data_df_err['data movement'] = err_df['data movement']\n",
    "    \n",
    "    split_plot([ov_df,ov_df_err],[app_df,app_df_err],[data_df,data_df_err])"
   ]
  },
  {
   "cell_type": "code",
   "execution_count": 92,
   "metadata": {
    "collapsed": false
   },
   "outputs": [
    {
     "name": "stdout",
     "output_type": "stream",
     "text": [
      "Sim exec:  [nan, nan, nan, nan]\n",
      "Sim exec:  [19.397365384615384, 19.026374999999998, 20.288432692307694, 19.579846153846152]\n",
      "Sim exec:  [20.075390086206895, 19.092191810344829, 24.078907327586204, 20.557719827586205]\n",
      "Sim exec:  [20.896547131147539, 19.696973872950821, 21.464957991803278, 21.464957991803278]\n",
      "Sim exec:  [21.467964875000003, 27.056011250000001, 20.908778000000002, 21.467964875000003]\n"
     ]
    }
   ],
   "source": [
    "#MAIN\n",
    "\n",
    "comp_df = pd.DataFrame(columns=['EnMD Core overhead',\n",
    "                                'EnMD Pat overhead',\n",
    "                                'RP overhead',\n",
    "                                'sim execution time',\n",
    "                                'ana execution time',\n",
    "                                'data movement'])\n",
    "\n",
    "err_df = pd.DataFrame(columns=['EnMD Core overhead',\n",
    "                                'EnMD Pat overhead',\n",
    "                                'RP overhead',\n",
    "                                'sim execution time',\n",
    "                                'ana execution time',\n",
    "                                'data movement'])\n",
    "\n",
    "cores = [1,16,32,64,128]\n",
    "trials = 4\n",
    "for c in cores:\n",
    "    \n",
    "    core_ov_list = list()\n",
    "    pat_ov_list = list()\n",
    "    rp_ov_list = list()\n",
    "    data_list = list()\n",
    "    sim_exec_list = list()\n",
    "    ana_exec_list = list()\n",
    "    \n",
    "    for t in range(1,trials+1):\n",
    "        \n",
    "        #f_core = open('experiment_iter{0}_p{1}_i{1}/enmd_core_overhead.csv'.format(t,c))\n",
    "        df_core = pd.read_csv('sa_data/enmd_core_overhead_{0}_{1}.csv'.format(c,t),header=0,sep=',')\n",
    "        df_pat = pd.read_csv('sa_data/enmd_pat_overhead_{0}_{1}.csv'.format(c,t),header=0,sep=',')\n",
    "        df_profile = pd.read_csv('sa_data/profile_{0}_{1}.csv'.format(c,t),header=0,sep=',',\n",
    "                            skipinitialspace=True)\n",
    "        core_ov = extract_core_overhead(df_core)\n",
    "        pat_ov = extract_pat_overhead(df_pat)\n",
    "        data, exec_list = extract_timing_info(df_profile,cores=c,inst=c)\n",
    "        rp_ov = extract_rp_overhead(df_pat,data,exec_list)\n",
    "        \n",
    "        core_ov_list.append(core_ov)\n",
    "        pat_ov_list.append(pat_ov)\n",
    "        rp_ov_list.append(rp_ov)\n",
    "        sim_exec_list.append(exec_list[0])\n",
    "        ana_exec_list.append(exec_list[1])\n",
    "        data_list.append(sum(data))\n",
    "        #print rp_ov_list\n",
    "        \n",
    "    #print 'Core ov: ',core_ov_list\n",
    "    #print 'Pat ov: ',pat_ov_list\n",
    "    #print 'Data mov: ',data_list\n",
    "    #print 'Preloop exec: ',preloop_exec_list\n",
    "    print 'Sim exec: ',sim_exec_list\n",
    "    #print 'Ana exec: ',ana_exec_list\n",
    "    \n",
    "    comp_df.loc['{0}/{1}'.format(c,c)] = [np.average(core_ov_list),\n",
    "                                          np.average(pat_ov_list),\n",
    "                                          np.average(rp_ov_list),\n",
    "                                          np.average(sim_exec_list),\n",
    "                                          np.average(ana_exec_list),\n",
    "                                          np.average(data_list)]\n",
    "    \n",
    "    err_df.loc['{0}/{1}'.format(c,c)] = [\n",
    "                                          np.std(core_ov_list)/math.sqrt(trials),\n",
    "                                          np.std(pat_ov_list)/math.sqrt(trials),\n",
    "                                          np.std(rp_ov_list)/math.sqrt(trials),\n",
    "                                          np.std(sim_exec_list)/math.sqrt(trials),\n",
    "                                          np.std(ana_exec_list)/math.sqrt(trials),\n",
    "                                          np.std(data_list)/math.sqrt(trials)\n",
    "                                         ]\n",
    "\n"
   ]
  },
  {
   "cell_type": "code",
   "execution_count": 93,
   "metadata": {
    "collapsed": true
   },
   "outputs": [],
   "source": [
    "def split_plot(ov,app,data):\n",
    "    fig, axes = plt.subplots(nrows=3, ncols=1)\n",
    "    \n",
    "    ax1 = ov[0].plot(ax=axes[0],kind='bar',stacked=False,\n",
    "               title='Overhead: Makefile and CharCount Using Simulation-Analysis on Stampede',\n",
    "               colors=['black','green','red'],ylim=(0,75),fontsize=12,rot=0,yerr=ov[1])\n",
    "    ax2 = app[0].plot(ax=axes[1],kind='bar',stacked=False,\n",
    "               title='Application: Makefile and CharCount Using Simulation Analysis on Stampede',\n",
    "               colors=['purple','blue','yellow'],ylim=(0,40),fontsize=14,rot=0,yerr=app[1])\n",
    "    ax3 = data[0].plot(ax=axes[2],kind='bar',stacked=False,\n",
    "               title='Data Movement: Makefile and CharCount Using Simulation Analysis on Stampede',\n",
    "               colors=['brown'],ylim=(0,200),fontsize=12,rot=0,yerr=data[1])\n",
    "    \n",
    "    ax2.set_xlabel('Cores/No. of simulations',fontsize=12)\n",
    "    ax2.set_ylabel('Time (seconds)',fontsize=12)\n",
    "    ax2.legend(fontsize=12,loc='upper left')\n",
    "    ax2.set_title(ax2.get_title(),fontsize=12)\n",
    "    ax1.set_xlabel('Cores/No. of simulations',fontsize=12)\n",
    "    ax1.set_ylabel('Time (seconds)',fontsize=12)\n",
    "    ax1.legend(fontsize=12,loc='upper left')\n",
    "    ax1.set_title(ax1.get_title(),fontsize=12)\n",
    "    ax3.set_xlabel('Cores/No. of simulations',fontsize=12)\n",
    "    ax3.set_ylabel('Time (seconds)',fontsize=12)\n",
    "    ax3.legend(fontsize=12,loc='upper left')\n",
    "    ax3.set_title(ax3.get_title(),fontsize=12)\n",
    "    \n",
    "    fig.set_size_inches(12,12)\n",
    "    fig.subplots_adjust(hspace=.4)\n",
    "    \n",
    "    ax1.grid()\n",
    "    ax2.grid()\n",
    "    ax3.grid()\n",
    "    plt.savefig('img/sa_weak_scaling.png')"
   ]
  },
  {
   "cell_type": "code",
   "execution_count": 94,
   "metadata": {
    "collapsed": false
   },
   "outputs": [
    {
     "data": {
      "image/png": "[encoded data removed]",
      "text/plain": [
       "<matplotlib.figure.Figure at 0x7f6e0f1911d0>"
      ]
     },
     "metadata": {},
     "output_type": "display_data"
    }
   ],
   "source": [
    "comp_df['RP overhead'][0] = .5\n",
    "for i in range(0,len(comp_df['RP overhead'])):\n",
    "    comp_df['RP overhead'][i] = abs(comp_df['RP overhead'][i])\n",
    "    \n",
    "comp_df['data movement'][0] = 13.592614\n",
    "comp_df\n",
    "\n",
    "separate(comp_df,err_df)"
   ]
  },
  {
   "cell_type": "code",
   "execution_count": null,
   "metadata": {
    "collapsed": true
   },
   "outputs": [],
   "source": []
  }
 ],
 "metadata": {
  "kernelspec": {
   "display_name": "Python 2",
   "language": "python",
   "name": "python2"
  },
  "language_info": {
   "codemirror_mode": {
    "name": "ipython",
    "version": 2
   },
   "file_extension": ".py",
   "mimetype": "text/x-python",
   "name": "python",
   "nbconvert_exporter": "python",
   "pygments_lexer": "ipython2",
   "version": "2.7.10"
  }
 },
 "nbformat": 4,
 "nbformat_minor": 0
}
