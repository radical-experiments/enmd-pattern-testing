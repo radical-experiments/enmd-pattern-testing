{
 "metadata": {
  "name": ""
 },
 "nbformat": 3,
 "nbformat_minor": 0,
 "worksheets": [
  {
   "cells": [
    {
     "cell_type": "code",
     "collapsed": false,
     "input": [
      "import pandas as pd\n",
      "import pylab\n",
      "import os\n",
      "import numpy as np\n",
      "#%matplotlib\n",
      "%matplotlib inline"
     ],
     "language": "python",
     "metadata": {},
     "outputs": [],
     "prompt_number": 1
    },
    {
     "cell_type": "code",
     "collapsed": false,
     "input": [
      "#Define the parameters varied and their range\n",
      "ITERS = 3\n",
      "INSTANCES = [16,32,64,128]\n",
      "CORES = [16,32,64,128]"
     ],
     "language": "python",
     "metadata": {},
     "outputs": [],
     "prompt_number": 2
    },
    {
     "cell_type": "code",
     "collapsed": false,
     "input": [
      "#Helper functions\n",
      "\n",
      "def extract(df):\n",
      "    \n",
      "    sim1_p = None\n",
      "    sim1_e = None\n",
      "    ana1_p = None\n",
      "    ana1_e = None\n",
      "    sim2_p = None\n",
      "    sim2_e = None\n",
      "    ana2_p = None\n",
      "    ana2_e = None\n",
      "    \n",
      "    ttc = None\n",
      "    tte = None\n",
      "    \n",
      "    sim2_do = None\n",
      "    \n",
      "    data = 0\n",
      "    \n",
      "    for row in df.iterrows():\n",
      "        entity=row[1]['pattern_entity']\n",
      "        step = entity.split('_')[0]\n",
      "        iter = entity.split('_')[2]\n",
      "        value=row[1]['value_type']\n",
      "        start = row[1]['first_started_abs']\n",
      "        stop = row[1]['last_finished_abs']\n",
      "        \n",
      "        if((step.startswith('sim')) and (iter=='1') and (value.startswith('pat'))):             \n",
      "            sim1_p = ((stop-start).total_seconds())\n",
      "        \n",
      "        elif((step.startswith('sim')) and (iter=='1') and (value.startswith('exe'))):        \n",
      "            sim1_e = ((stop-start).total_seconds())\n",
      "        \n",
      "        elif((step.startswith('ana')) and (iter=='1') and (value.startswith('pat'))):\n",
      "            ana1_p = ((stop-start).total_seconds())\n",
      "            \n",
      "        elif((step.startswith('ana')) and (iter=='1') and (value.startswith('exe'))):\n",
      "            ana1_e = ((stop-start).total_seconds())\n",
      "            \n",
      "        elif((step.startswith('sim')) and (iter=='1') and (value.startswith('data_stageout'))):\n",
      "            data += ((stop-start).total_seconds())\n",
      "            \n",
      "        elif((step.startswith('ana')) and (iter=='1') and (value.startswith('data_stageout'))):\n",
      "            data += ((stop-start).total_seconds())\n",
      "            \n",
      "        elif((step.startswith('sim')) and (iter=='2') and (value.startswith('pat'))):\n",
      "            sim2_p = ((stop-start).total_seconds())\n",
      "            \n",
      "        elif((step.startswith('sim')) and (iter=='2') and (value.startswith('exe'))):\n",
      "            sim2_e = ((stop-start).total_seconds())\n",
      "            \n",
      "        elif((step.startswith('ana')) and (iter=='2') and (value.startswith('pat'))):\n",
      "            ana2_p = ((stop-start).total_seconds())\n",
      "            \n",
      "        elif((step.startswith('ana')) and (iter=='2') and (value.startswith('exe'))):\n",
      "            ana2_e = ((stop-start).total_seconds())\n",
      "            \n",
      "        elif((step.startswith('sim')) and (iter=='2') and (value.startswith('data_stageout'))):                \n",
      "            sim2_do = ((stop-start).total_seconds())\n",
      "    \n",
      "    ttc = sim1_p + ana1_p\n",
      "    tte = sim1_e + ana1_e\n",
      "    \n",
      "    #series = pd.Series([sim1_e,ana1_e,tte,ttc],index=['sim_1_exec','ana_1_exec','TTE','TTC'])\n",
      "    series = [sim1_e,ana1_e,data,tte,ttc]\n",
      "                                                                                                \n",
      "    return series\n",
      "\n",
      "def filter(dflist):\n",
      "    simdata = []\n",
      "    anadata = []\n",
      "    ttedata = []\n",
      "    ttcdata = []\n",
      "    movdata = []\n",
      "    iters = len(dflist)\n",
      "    for df in dflist:\n",
      "        data = pd.DataFrame(df,index=[0,2,3,4,6,7],columns=['pattern_entity','value_type','first_started_abs','last_finished_abs'])\n",
      "        #print data\n",
      "        simdata.append(extract(data)[0])\n",
      "        anadata.append(extract(data)[1])\n",
      "        movdata.append(extract(data)[2])\n",
      "        ttedata.append(extract(data)[3])\n",
      "        ttcdata.append(extract(data)[4])\n",
      "    return [np.mean(simdata),np.std(simdata)],[np.mean(anadata),np.std(anadata)],[np.mean(movdata),np.std(movdata)],[np.mean(ttedata),np.std(ttedata)],[np.mean(ttcdata),np.std(ttcdata)]\n",
      "\n"
     ],
     "language": "python",
     "metadata": {},
     "outputs": [],
     "prompt_number": 3
    },
    {
     "cell_type": "code",
     "collapsed": false,
     "input": [
      "# NOTE: In each graph Execution Time is observed as Pilot Size is kept constant, Problem Size is constant, Number of instances are varied\n",
      "# NOTE: Across graphs, the Pilot Size is varied, but the Problem size is still the same.\n",
      "for size in CORES:\n",
      "    table_vals = pd.DataFrame(columns=['sim1-exec','ana1-exec'])\n",
      "    table_errs = pd.DataFrame(columns=['sim1-exec','ana1-exec'])\n",
      "    for inst in INSTANCES:\n",
      "        if(inst>=size):\n",
      "            df = []\n",
      "            for iter in range(1,ITERS+1):\n",
      "                df.append(pd.read_pickle('data/experiment_iter{0}_p{1}_i{2}/exp_{1}_{2}.pkl'.format(iter,size,inst)))\n",
      "            [sim,ana,tte,ttc]=filter(df)\n",
      "            #print sim,ana\n",
      "            table_vals.loc['{0}/{1}'.format(size,inst)] = [sim[0],ana[0]]\n",
      "            table_errs.loc['{0}/{1}'.format(size,inst)] = [sim[1],ana[1]]\n",
      "    ax = table_vals.plot(kind='bar',yerr=table_errs,title='Simulation-Analysis Stampede - Gromacs-LSDMap - Execution Time vs Number of Instances - Pilotsize={0}'.format(size),color=['red','green'],style='-o')\n",
      "    ax.set_ylabel('Execution Time (seconds)')\n",
      "    ax.set_xlabel('Pilot Size({0}) / Simulation Instances (Simulation CU takes 1 core each, Analysis CU takes {0} cores)'.format(size))"
     ],
     "language": "python",
     "metadata": {},
     "outputs": [
      {
       "ename": "ValueError",
       "evalue": "too many values to unpack",
       "output_type": "pyerr",
       "traceback": [
        "\u001b[0;31m---------------------------------------------------------------------------\u001b[0m\n\u001b[0;31mValueError\u001b[0m                                Traceback (most recent call last)",
        "\u001b[0;32m<ipython-input-4-ac3904c09cb5>\u001b[0m in \u001b[0;36m<module>\u001b[0;34m()\u001b[0m\n\u001b[1;32m      9\u001b[0m             \u001b[0;32mfor\u001b[0m \u001b[0miter\u001b[0m \u001b[0;32min\u001b[0m \u001b[0mrange\u001b[0m\u001b[0;34m(\u001b[0m\u001b[0;36m1\u001b[0m\u001b[0;34m,\u001b[0m\u001b[0mITERS\u001b[0m\u001b[0;34m+\u001b[0m\u001b[0;36m1\u001b[0m\u001b[0;34m)\u001b[0m\u001b[0;34m:\u001b[0m\u001b[0;34m\u001b[0m\u001b[0m\n\u001b[1;32m     10\u001b[0m                 \u001b[0mdf\u001b[0m\u001b[0;34m.\u001b[0m\u001b[0mappend\u001b[0m\u001b[0;34m(\u001b[0m\u001b[0mpd\u001b[0m\u001b[0;34m.\u001b[0m\u001b[0mread_pickle\u001b[0m\u001b[0;34m(\u001b[0m\u001b[0;34m'data/experiment_iter{0}_p{1}_i{2}/exp_{1}_{2}.pkl'\u001b[0m\u001b[0;34m.\u001b[0m\u001b[0mformat\u001b[0m\u001b[0;34m(\u001b[0m\u001b[0miter\u001b[0m\u001b[0;34m,\u001b[0m\u001b[0msize\u001b[0m\u001b[0;34m,\u001b[0m\u001b[0minst\u001b[0m\u001b[0;34m)\u001b[0m\u001b[0;34m)\u001b[0m\u001b[0;34m)\u001b[0m\u001b[0;34m\u001b[0m\u001b[0m\n\u001b[0;32m---> 11\u001b[0;31m             \u001b[0;34m[\u001b[0m\u001b[0msim\u001b[0m\u001b[0;34m,\u001b[0m\u001b[0mana\u001b[0m\u001b[0;34m,\u001b[0m\u001b[0mtte\u001b[0m\u001b[0;34m,\u001b[0m\u001b[0mttc\u001b[0m\u001b[0;34m]\u001b[0m\u001b[0;34m=\u001b[0m\u001b[0mfilter\u001b[0m\u001b[0;34m(\u001b[0m\u001b[0mdf\u001b[0m\u001b[0;34m)\u001b[0m\u001b[0;34m\u001b[0m\u001b[0m\n\u001b[0m\u001b[1;32m     12\u001b[0m             \u001b[0;31m#print sim,ana\u001b[0m\u001b[0;34m\u001b[0m\u001b[0;34m\u001b[0m\u001b[0m\n\u001b[1;32m     13\u001b[0m             \u001b[0mtable_vals\u001b[0m\u001b[0;34m.\u001b[0m\u001b[0mloc\u001b[0m\u001b[0;34m[\u001b[0m\u001b[0;34m'{0}/{1}'\u001b[0m\u001b[0;34m.\u001b[0m\u001b[0mformat\u001b[0m\u001b[0;34m(\u001b[0m\u001b[0msize\u001b[0m\u001b[0;34m,\u001b[0m\u001b[0minst\u001b[0m\u001b[0;34m)\u001b[0m\u001b[0;34m]\u001b[0m \u001b[0;34m=\u001b[0m \u001b[0;34m[\u001b[0m\u001b[0msim\u001b[0m\u001b[0;34m[\u001b[0m\u001b[0;36m0\u001b[0m\u001b[0;34m]\u001b[0m\u001b[0;34m,\u001b[0m\u001b[0mana\u001b[0m\u001b[0;34m[\u001b[0m\u001b[0;36m0\u001b[0m\u001b[0;34m]\u001b[0m\u001b[0;34m]\u001b[0m\u001b[0;34m\u001b[0m\u001b[0m\n",
        "\u001b[0;31mValueError\u001b[0m: too many values to unpack"
       ]
      }
     ],
     "prompt_number": 4
    },
    {
     "cell_type": "code",
     "collapsed": false,
     "input": [
      "# NOTE: In each graph Total time for Execution (Sim+Ana) is observed as Pilot Size is kept constant, Problem Size is constant, \n",
      "#       Number of instances are varied\n",
      "# NOTE: Across graphs, the Pilot Size is varied, but the Problem size is still the same.\n",
      "\n",
      "for size in CORES:\n",
      "    table_vals = pd.DataFrame(columns=['TTE'])\n",
      "    table_errs = pd.DataFrame(columns=['TTE'])\n",
      "    for inst in INSTANCES:\n",
      "        if(inst>=size):\n",
      "            df = []\n",
      "            for iter in range(1,ITERS+1):\n",
      "                df.append(pd.read_pickle('data/experiment_iter{0}_p{1}_i{2}/exp_{1}_{2}.pkl'.format(iter,size,inst)))\n",
      "            [sim,ana,tte,ttc]=filter(df)\n",
      "            #print sim,ana\n",
      "            table_vals.loc['{0}/{1}'.format(size,inst)] = [tte[0]]\n",
      "            table_errs.loc['{0}/{1}'.format(size,inst)] = [tte[1]]\n",
      "    ax = table_vals.plot(kind='bar',yerr=table_errs,title='Simulation-Analysis Stampede - Gromacs-LSDMap - Total Execution time vs Number of Instances - Pilotsize={0}'.format(size),color=['red'],style='-o')\n",
      "    ax.set_ylabel('Total Execution Time (seconds)')\n",
      "    ax.set_xlabel('Pilot Size({0}) / Simulation Instances (Simulation CU takes 1 core each, Analysis CU takes {0} cores)'.format(size))"
     ],
     "language": "python",
     "metadata": {},
     "outputs": []
    },
    {
     "cell_type": "code",
     "collapsed": false,
     "input": [
      "# NOTE: All the datapoints for put together and Total Time for Execution is observed. Problem size is constant.\n",
      "\n",
      "table_vals = pd.DataFrame(columns=['TTE'])\n",
      "table_errs = pd.DataFrame(columns=['TTE'])\n",
      "for size in CORES:\n",
      "    for inst in INSTANCES:\n",
      "        if(inst>=size):\n",
      "            df = []\n",
      "            for iter in range(1,ITERS+1):\n",
      "                df.append(pd.read_pickle('data/experiment_iter{0}_p{1}_i{2}/exp_{1}_{2}.pkl'.format(iter,size,inst)))\n",
      "            [sim,ana,tte,ttc]=filter(df)\n",
      "            #print sim,ana\n",
      "            table_vals.loc['{0}/{1}'.format(size,inst)] = [tte[0]]\n",
      "            table_errs.loc['{0}/{1}'.format(size,inst)] = [tte[1]]\n",
      "ax = table_vals.plot(kind='bar',yerr=table_errs,title='Simulation-Analysis Stampede - Gromacs-LSDMap - Total Execution time for all data points - Pilotsize={0}'.format(size),color=['red'],style='-o')\n",
      "ax.set_ylabel('Total Execution Time (seconds)')\n",
      "ax.set_xlabel('Pilot Size({0}) / Simulation Instances (Simulation CU takes 1 core each, Analysis CU takes {0} cores)'.format(size))"
     ],
     "language": "python",
     "metadata": {},
     "outputs": [
      {
       "ename": "ValueError",
       "evalue": "too many values to unpack",
       "output_type": "pyerr",
       "traceback": [
        "\u001b[0;31m---------------------------------------------------------------------------\u001b[0m\n\u001b[0;31mValueError\u001b[0m                                Traceback (most recent call last)",
        "\u001b[0;32m<ipython-input-5-92034f417664>\u001b[0m in \u001b[0;36m<module>\u001b[0;34m()\u001b[0m\n\u001b[1;32m      9\u001b[0m             \u001b[0;32mfor\u001b[0m \u001b[0miter\u001b[0m \u001b[0;32min\u001b[0m \u001b[0mrange\u001b[0m\u001b[0;34m(\u001b[0m\u001b[0;36m1\u001b[0m\u001b[0;34m,\u001b[0m\u001b[0mITERS\u001b[0m\u001b[0;34m+\u001b[0m\u001b[0;36m1\u001b[0m\u001b[0;34m)\u001b[0m\u001b[0;34m:\u001b[0m\u001b[0;34m\u001b[0m\u001b[0m\n\u001b[1;32m     10\u001b[0m                 \u001b[0mdf\u001b[0m\u001b[0;34m.\u001b[0m\u001b[0mappend\u001b[0m\u001b[0;34m(\u001b[0m\u001b[0mpd\u001b[0m\u001b[0;34m.\u001b[0m\u001b[0mread_pickle\u001b[0m\u001b[0;34m(\u001b[0m\u001b[0;34m'data/experiment_iter{0}_p{1}_i{2}/exp_{1}_{2}.pkl'\u001b[0m\u001b[0;34m.\u001b[0m\u001b[0mformat\u001b[0m\u001b[0;34m(\u001b[0m\u001b[0miter\u001b[0m\u001b[0;34m,\u001b[0m\u001b[0msize\u001b[0m\u001b[0;34m,\u001b[0m\u001b[0minst\u001b[0m\u001b[0;34m)\u001b[0m\u001b[0;34m)\u001b[0m\u001b[0;34m)\u001b[0m\u001b[0;34m\u001b[0m\u001b[0m\n\u001b[0;32m---> 11\u001b[0;31m             \u001b[0;34m[\u001b[0m\u001b[0msim\u001b[0m\u001b[0;34m,\u001b[0m\u001b[0mana\u001b[0m\u001b[0;34m,\u001b[0m\u001b[0mtte\u001b[0m\u001b[0;34m,\u001b[0m\u001b[0mttc\u001b[0m\u001b[0;34m]\u001b[0m\u001b[0;34m=\u001b[0m\u001b[0mfilter\u001b[0m\u001b[0;34m(\u001b[0m\u001b[0mdf\u001b[0m\u001b[0;34m)\u001b[0m\u001b[0;34m\u001b[0m\u001b[0m\n\u001b[0m\u001b[1;32m     12\u001b[0m             \u001b[0;31m#print sim,ana\u001b[0m\u001b[0;34m\u001b[0m\u001b[0;34m\u001b[0m\u001b[0m\n\u001b[1;32m     13\u001b[0m             \u001b[0mtable_vals\u001b[0m\u001b[0;34m.\u001b[0m\u001b[0mloc\u001b[0m\u001b[0;34m[\u001b[0m\u001b[0;34m'{0}/{1}'\u001b[0m\u001b[0;34m.\u001b[0m\u001b[0mformat\u001b[0m\u001b[0;34m(\u001b[0m\u001b[0msize\u001b[0m\u001b[0;34m,\u001b[0m\u001b[0minst\u001b[0m\u001b[0;34m)\u001b[0m\u001b[0;34m]\u001b[0m \u001b[0;34m=\u001b[0m \u001b[0;34m[\u001b[0m\u001b[0mtte\u001b[0m\u001b[0;34m[\u001b[0m\u001b[0;36m0\u001b[0m\u001b[0;34m]\u001b[0m\u001b[0;34m]\u001b[0m\u001b[0;34m\u001b[0m\u001b[0m\n",
        "\u001b[0;31mValueError\u001b[0m: too many values to unpack"
       ]
      }
     ],
     "prompt_number": 5
    },
    {
     "cell_type": "code",
     "collapsed": false,
     "input": [
      "# NOTE: All the datapoints put together and Total Time for Execution, Total Time for Completion are observed. Problem size is constant.\n",
      "\n",
      "table_vals = pd.DataFrame(columns=['TTE','TTC'])\n",
      "table_errs = pd.DataFrame(columns=['TTE','TTC'])\n",
      "for size in CORES:\n",
      "    for inst in INSTANCES:\n",
      "        if(inst>=size):\n",
      "            df = []\n",
      "            for iter in range(1,ITERS+1):\n",
      "                df.append(pd.read_pickle('data/experiment_iter{0}_p{1}_i{2}/exp_{1}_{2}.pkl'.format(iter,size,inst)))\n",
      "            [sim,ana,tte,ttc]=filter(df)\n",
      "            #print sim,ana\n",
      "            table_vals.loc['{0}/{1}'.format(size,inst)] = [tte[0],ttc[0]]\n",
      "            table_errs.loc['{0}/{1}'.format(size,inst)] = [tte[1],ttc[1]]\n",
      "ax = table_vals.plot(kind='bar',yerr=table_errs,title='Simulation-Analysis Stampede - Gromacs-LSDMap - TTC and TTE for all data points - Pilotsize={0}'.format(size),color=['red','green'],style='-o')\n",
      "ax.set_ylabel('Total time (seconds)')\n",
      "ax.set_xlabel('Pilot Size({0}) / Simulation Instances (Simulation CU takes 1 core each, Analysis CU takes {0} cores)'.format(size))"
     ],
     "language": "python",
     "metadata": {},
     "outputs": [
      {
       "ename": "ValueError",
       "evalue": "too many values to unpack",
       "output_type": "pyerr",
       "traceback": [
        "\u001b[0;31m---------------------------------------------------------------------------\u001b[0m\n\u001b[0;31mValueError\u001b[0m                                Traceback (most recent call last)",
        "\u001b[0;32m<ipython-input-6-9371a725a153>\u001b[0m in \u001b[0;36m<module>\u001b[0;34m()\u001b[0m\n\u001b[1;32m      9\u001b[0m             \u001b[0;32mfor\u001b[0m \u001b[0miter\u001b[0m \u001b[0;32min\u001b[0m \u001b[0mrange\u001b[0m\u001b[0;34m(\u001b[0m\u001b[0;36m1\u001b[0m\u001b[0;34m,\u001b[0m\u001b[0mITERS\u001b[0m\u001b[0;34m+\u001b[0m\u001b[0;36m1\u001b[0m\u001b[0;34m)\u001b[0m\u001b[0;34m:\u001b[0m\u001b[0;34m\u001b[0m\u001b[0m\n\u001b[1;32m     10\u001b[0m                 \u001b[0mdf\u001b[0m\u001b[0;34m.\u001b[0m\u001b[0mappend\u001b[0m\u001b[0;34m(\u001b[0m\u001b[0mpd\u001b[0m\u001b[0;34m.\u001b[0m\u001b[0mread_pickle\u001b[0m\u001b[0;34m(\u001b[0m\u001b[0;34m'data/experiment_iter{0}_p{1}_i{2}/exp_{1}_{2}.pkl'\u001b[0m\u001b[0;34m.\u001b[0m\u001b[0mformat\u001b[0m\u001b[0;34m(\u001b[0m\u001b[0miter\u001b[0m\u001b[0;34m,\u001b[0m\u001b[0msize\u001b[0m\u001b[0;34m,\u001b[0m\u001b[0minst\u001b[0m\u001b[0;34m)\u001b[0m\u001b[0;34m)\u001b[0m\u001b[0;34m)\u001b[0m\u001b[0;34m\u001b[0m\u001b[0m\n\u001b[0;32m---> 11\u001b[0;31m             \u001b[0;34m[\u001b[0m\u001b[0msim\u001b[0m\u001b[0;34m,\u001b[0m\u001b[0mana\u001b[0m\u001b[0;34m,\u001b[0m\u001b[0mtte\u001b[0m\u001b[0;34m,\u001b[0m\u001b[0mttc\u001b[0m\u001b[0;34m]\u001b[0m\u001b[0;34m=\u001b[0m\u001b[0mfilter\u001b[0m\u001b[0;34m(\u001b[0m\u001b[0mdf\u001b[0m\u001b[0;34m)\u001b[0m\u001b[0;34m\u001b[0m\u001b[0m\n\u001b[0m\u001b[1;32m     12\u001b[0m             \u001b[0;31m#print sim,ana\u001b[0m\u001b[0;34m\u001b[0m\u001b[0;34m\u001b[0m\u001b[0m\n\u001b[1;32m     13\u001b[0m             \u001b[0mtable_vals\u001b[0m\u001b[0;34m.\u001b[0m\u001b[0mloc\u001b[0m\u001b[0;34m[\u001b[0m\u001b[0;34m'{0}/{1}'\u001b[0m\u001b[0;34m.\u001b[0m\u001b[0mformat\u001b[0m\u001b[0;34m(\u001b[0m\u001b[0msize\u001b[0m\u001b[0;34m,\u001b[0m\u001b[0minst\u001b[0m\u001b[0;34m)\u001b[0m\u001b[0;34m]\u001b[0m \u001b[0;34m=\u001b[0m \u001b[0;34m[\u001b[0m\u001b[0mtte\u001b[0m\u001b[0;34m[\u001b[0m\u001b[0;36m0\u001b[0m\u001b[0;34m]\u001b[0m\u001b[0;34m,\u001b[0m\u001b[0mttc\u001b[0m\u001b[0;34m[\u001b[0m\u001b[0;36m0\u001b[0m\u001b[0;34m]\u001b[0m\u001b[0;34m]\u001b[0m\u001b[0;34m\u001b[0m\u001b[0m\n",
        "\u001b[0;31mValueError\u001b[0m: too many values to unpack"
       ]
      }
     ],
     "prompt_number": 6
    },
    {
     "cell_type": "code",
     "collapsed": false,
     "input": [],
     "language": "python",
     "metadata": {},
     "outputs": [],
     "prompt_number": 6
    },
    {
     "cell_type": "code",
     "collapsed": false,
     "input": [
      "# NOTE: All the datapoints put together and Total Time for Execution, Total Time for Completion are observed. Problem size is constant.\n",
      "\n",
      "table_vals = pd.DataFrame(columns=['Simulation Time','Analysis Time','Data Movement','Overhead'])\n",
      "table_errs = pd.DataFrame(columns=['Simulation Time','Analysis Time','Data Movement','Overhead'])\n",
      "for size in CORES:\n",
      "    for inst in INSTANCES:\n",
      "        if(inst==size):\n",
      "            df = []\n",
      "            for iter in range(1,ITERS+1):\n",
      "                df.append(pd.read_pickle('data/experiment_iter{0}_p{1}_i{2}/exp_{1}_{2}.pkl'.format(iter,size,inst)))\n",
      "            #print df\n",
      "            [sim,ana,data,tte,ttc]=filter(df)\n",
      "            #print sim,ana, data\n",
      "            table_vals.loc['{0}/{1}'.format(size,inst)] = [sim[0],ana[0],data[0],ttc[0]-tte[0]-data[0]]\n",
      "            table_errs.loc['{0}/{1}'.format(size,inst)] = [sim[1],ana[1],data[1],ttc[1]-tte[1]-data[1]]\n",
      "ax = table_vals.plot(kind='bar',stacked=True,yerr=table_errs,title='Simulation-Analysis Stampede - Gromacs - Total time Split-up'.format(size),fontsize=22,color=['red','green','grey','black'],style='-o')\n",
      "ax.set_ylabel('Total time (seconds)',fontsize=22)\n",
      "ax.set_xlabel('Cores / Simulation Instances (Simulation instances takes 1 core each, Analysis CU takes all cores)'.format(size),fontsize=22)\n",
      "ax.legend(fontsize=30)\n",
      "ax.set_title(ax.get_title(),fontsize=30)"
     ],
     "language": "python",
     "metadata": {},
     "outputs": [
      {
       "metadata": {},
       "output_type": "pyout",
       "prompt_number": 13,
       "text": [
        "<matplotlib.text.Text at 0x7f6fa7145950>"
       ]
      }
     ],
     "prompt_number": 13
    },
    {
     "cell_type": "code",
     "collapsed": false,
     "input": [
      "%matplotlib"
     ],
     "language": "python",
     "metadata": {},
     "outputs": [
      {
       "output_type": "stream",
       "stream": "stdout",
       "text": [
        "Using matplotlib backend: TkAgg\n"
       ]
      }
     ],
     "prompt_number": 9
    },
    {
     "cell_type": "code",
     "collapsed": false,
     "input": [],
     "language": "python",
     "metadata": {},
     "outputs": []
    }
   ],
   "metadata": {}
  }
 ]
}