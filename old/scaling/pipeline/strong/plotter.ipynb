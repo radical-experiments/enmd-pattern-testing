{
 "metadata": {
  "name": ""
 },
 "nbformat": 3,
 "nbformat_minor": 0,
 "worksheets": [
  {
   "cells": [
    {
     "cell_type": "code",
     "collapsed": false,
     "input": [
      "import pandas as pd\n",
      "import matplotlib.pyplot as plt\n",
      "import datetime\n",
      "import math\n",
      "import numpy as np\n",
      "import glob\n",
      "%matplotlib"
     ],
     "language": "python",
     "metadata": {},
     "outputs": [
      {
       "output_type": "stream",
       "stream": "stdout",
       "text": [
        "Using matplotlib backend: TkAgg\n"
       ]
      }
     ],
     "prompt_number": 1
    },
    {
     "cell_type": "code",
     "collapsed": false,
     "input": [
      "trials = 3\n",
      "cores = [64,128,256,512]\n",
      "inst=1024"
     ],
     "language": "python",
     "metadata": {},
     "outputs": [],
     "prompt_number": 15
    },
    {
     "cell_type": "code",
     "collapsed": false,
     "input": [
      "def extract_time_date(t1,t2,t3=None,t4=None):\n",
      "    \n",
      "    try:\n",
      "        t1 = datetime.datetime.strptime(t1, \"%Y-%m-%d %H:%M:%S.%f\")\n",
      "    except:\n",
      "        t1 = datetime.datetime.strptime(t1, \"%Y-%m-%d %H:%M:%S\")\n",
      "        \n",
      "    try:\n",
      "        t2  = datetime.datetime.strptime(t2, \"%Y-%m-%d %H:%M:%S.%f\")\n",
      "    except:\n",
      "        t2  = datetime.datetime.strptime(t2, \"%Y-%m-%d %H:%M:%S\")\n",
      "        \n",
      "    if t3 is not None:\n",
      "        \n",
      "        try:\n",
      "            t3   = datetime.datetime.strptime(t3, \"%Y-%m-%d %H:%M:%S.%f\")\n",
      "        except:\n",
      "            t3   = datetime.datetime.strptime(t3, \"%Y-%m-%d %H:%M:%S\")\n",
      "        \n",
      "        try:\n",
      "            t4  = datetime.datetime.strptime(t4, \"%Y-%m-%d %H:%M:%S.%f\")\n",
      "        except:\n",
      "            t4  = datetime.datetime.strptime(t4, \"%Y-%m-%d %H:%M:%S\")\n",
      "            \n",
      "            \n",
      "        return ((t2-t1)+(t4-t3)).total_seconds()\n",
      "    \n",
      "    else:\n",
      "        return (t2-t1).total_seconds()"
     ],
     "language": "python",
     "metadata": {},
     "outputs": [],
     "prompt_number": 3
    },
    {
     "cell_type": "code",
     "collapsed": false,
     "input": [
      "def extract_time(t1,t2,t3=None,t4=None):\n",
      "    if t3 is not None:\n",
      "        t1=float(t1)\n",
      "        t2=float(t2)\n",
      "        t3=float(t3)\n",
      "        t4=float(t4)\n",
      "        return ((t2-t1)+(t4-t3))\n",
      "    else:\n",
      "        t1=float(t1)\n",
      "        t2=float(t2)\n",
      "        return (t2-t1)"
     ],
     "language": "python",
     "metadata": {},
     "outputs": [],
     "prompt_number": 4
    },
    {
     "cell_type": "code",
     "collapsed": false,
     "input": [
      "def extract_core_overhead(df):\n",
      "    alloc_start,alloc_stop,dealloc_start,dealloc_stop = df['timestamp']\n",
      "    core_ov = extract_time_date(alloc_start,alloc_stop,dealloc_start,dealloc_stop)\n",
      "    \n",
      "    return core_ov"
     ],
     "language": "python",
     "metadata": {},
     "outputs": [],
     "prompt_number": 5
    },
    {
     "cell_type": "code",
     "collapsed": false,
     "input": [
      "def extract_pat_overhead(df):\n",
      "    step1_df = df[:4]\n",
      "    step2_df = df[4:]\n",
      "    \n",
      "    start,wait,res,stop = step1_df['timestamp']    \n",
      "    step1_ov = extract_time_date(start,wait,res,stop)\n",
      "    \n",
      "    start,wait,res,stop = step2_df['timestamp']    \n",
      "    step2_ov = extract_time_date(start,wait,res,stop)\n",
      "    \n",
      "    #print step1_ov + step2_ov\n",
      "    return step1_ov + step2_ov"
     ],
     "language": "python",
     "metadata": {},
     "outputs": [],
     "prompt_number": 6
    },
    {
     "cell_type": "code",
     "collapsed": false,
     "input": [
      "def extract_timing_info(df,cores,inst):\n",
      "    \n",
      "    step1_data,step2_data = extract_data_time(df,cores,inst)\n",
      "    step1_exec,step2_exec = extract_exec_time(df,cores,inst)\n",
      "    \n",
      "    #return [step1_data, step2_data]\n",
      "    return [step1_data, step2_data],[step1_exec, step2_exec]"
     ],
     "language": "python",
     "metadata": {},
     "outputs": [],
     "prompt_number": 83
    },
    {
     "cell_type": "code",
     "collapsed": false,
     "input": [
      "\n",
      "def extract_data_time(df,cores,inst):\n",
      "    req_df = df[['step','StagingInput','Executing','AgentStagingOutputPending','Done']]\n",
      "    \n",
      "    #step1_df = req_df.sort('Executing')[:cores]\n",
      "    #step2_df = req_df.sort('Executing')[inst:inst+cores]\n",
      "    \n",
      "    step1_df = req_df.sort('Executing')\n",
      "    #print step1_df\n",
      "    step2_df = req_df.sort('Executing')[inst:inst+cores]\n",
      "    \n",
      "    \n",
      "    #Step1 extraction\n",
      "    step1_data_time  = list()\n",
      "    ip_min=None\n",
      "    ip_max=0\n",
      "    op_min=None\n",
      "    op_max=0\n",
      "    i=0\n",
      "    for row in step1_df[:cores].iterrows():\n",
      "        step,t1,t2,t3,t4 = row[1:][0]\n",
      "        step1_data_time.append(extract_time(t1,t2))\n",
      "        if ((t1 < ip_min) or (ip_min==None)):\n",
      "            ip_min=t1\n",
      "        if (t2 > ip_max):\n",
      "            ip_max=t2\n",
      "        if ((t3 < op_min) or (op_min==None)):\n",
      "            op_min=t3\n",
      "        if (t4 > op_max):\n",
      "            op_max=t4\n",
      "            \n",
      "        #print 'i:',i,'Ip: ',t2-t1\n",
      "        #print 'i:',i,'Op: ',t4-t3\n",
      "        i+=1\n",
      "    print ip_min\n",
      "    print ip_max\n",
      "    print op_min\n",
      "    print op_max\n",
      "    #print 'Average total ip: ',(t2-t1)*(inst/cores)\n",
      "    #print 'Average total ip: ',(t4-t3)*(inst/cores)\n",
      "    #print step1_data_time\n",
      "    #step1_data_time = np.average(step1_data_time)*(inst/cores) + (t4-t3)\n",
      "    step1_data_time = (t2-t1) + (t4-t3)\n",
      "    #print step1_data_time\n",
      "    \n",
      "    #Step2 extraction\n",
      "    step2_data_time  = list()\n",
      "    for row in step2_df.iterrows():\n",
      "        step,t1,t2,t3,t4 = row[1:][0]\n",
      "        #print t1,t2,t3,t4\n",
      "        step2_data_time.append(extract_time(t1,t2))\n",
      "    \n",
      "    #print step2_data_time\n",
      "    step2_data_time = np.average(step2_data_time)*(inst/cores)\n",
      "    \n",
      "    \n",
      "    \n",
      "    #print step1_data_time,step2_data_time\n",
      "    return step1_data_time,step2_data_time\n"
     ],
     "language": "python",
     "metadata": {},
     "outputs": [],
     "prompt_number": 119
    },
    {
     "cell_type": "code",
     "collapsed": false,
     "input": [
      "#MAIN\n",
      "\n",
      "comp_df = pd.DataFrame(columns=['EnMD Core overhead',\n",
      "                                'EnMD Pat overhead',\n",
      "                                'RP overhead',\n",
      "                                'step_1 execution time',\n",
      "                                'step_2 execution time',\n",
      "                                'data movement'])\n",
      "\n",
      "err_df = pd.DataFrame(columns=['EnMD Core overhead',\n",
      "                                'EnMD Pat overhead',\n",
      "                                'RP overhead',\n",
      "                                'step_1 execution time',\n",
      "                                'step_2 execution time',\n",
      "                                'data movement'])\n",
      "\n",
      "cores=[512]\n",
      "trials=1\n",
      "for c in cores:\n",
      "    \n",
      "    core_ov_list = list()\n",
      "    pat_ov_list = list()\n",
      "    rp_ov_list = list()\n",
      "    data_list = list()\n",
      "    step1_exec_list = list()\n",
      "    step2_exec_list = list()\n",
      "    \n",
      "    for t in range(1,trials+1):\n",
      "        \n",
      "        #f_core = open('experiment_iter{0}_p{1}_i{1}/enmd_core_overhead.csv'.format(t,c))\n",
      "        df_core = pd.read_csv('experiment_iter{0}_p{1}_i{2}/enmd_core_overhead.csv'.format(t,c,inst),header=0,sep=',')\n",
      "        df_pat = pd.read_csv('experiment_iter{0}_p{1}_i{2}/enmd_pat_overhead.csv'.format(t,c,inst),header=0,sep=',')\n",
      "        \n",
      "        fname = glob.glob('experiment_iter{0}_p{1}_i{2}/execution*.csv'.format(t,c,inst))[0]\n",
      "        df_cu = pd.read_csv('{0}'.format(fname),header=0,sep=',',skipinitialspace=True)\n",
      "        #core_ov = extract_core_overhead(df_core)\n",
      "        #pat_ov = extract_pat_overhead(df_pat)\n",
      "        #data = extract_timing_info(df_cu,cores=c,inst=inst)\n",
      "        data, exec_list = extract_timing_info(df_cu,cores=c,inst=c)\n",
      "        #rp_ov = extract_rp_overhead(df_pat,data,exec_list)\n",
      "        \n",
      "        '''\n",
      "        core_ov_list.append(core_ov)\n",
      "        pat_ov_list.append(pat_ov)\n",
      "        rp_ov_list.append(rp_ov)\n",
      "        step1_exec_list.append(exec_list[0])\n",
      "        step2_exec_list.append(exec_list[1])\n",
      "        data_list.append(sum(data))\n",
      "    \n",
      "    comp_df.loc['{0}/{1}'.format(c,c)] = [np.average(core_ov_list),\n",
      "                                          np.average(pat_ov_list),\n",
      "                                          np.average(rp_ov_list),\n",
      "                                          np.average(step1_exec_list),\n",
      "                                          np.average(step2_exec_list),\n",
      "                                          np.average(data_list)]\n",
      "    \n",
      "    err_df.loc['{0}/{1}'.format(c,c)] = [\n",
      "                                          np.std(core_ov_list)/math.sqrt(trials),\n",
      "                                          np.std(pat_ov_list)/math.sqrt(trials),\n",
      "                                          np.std(rp_ov_list)/math.sqrt(trials),\n",
      "                                          np.std(step1_exec_list)/math.sqrt(trials),\n",
      "                                          np.std(step2_exec_list)/math.sqrt(trials),\n",
      "                                          np.std(data_list)/math.sqrt(trials)\n",
      "                                         ]\n",
      "    \n",
      "    \n",
      "separate(comp_df,err_df)\n",
      "'''"
     ],
     "language": "python",
     "metadata": {},
     "outputs": [
      {
       "output_type": "stream",
       "stream": "stdout",
       "text": [
        "1446524227.3\n",
        "1446525135.11\n",
        "1446524427.1\n",
        "1446525328.61\n"
       ]
      }
     ],
     "prompt_number": 121
    },
    {
     "cell_type": "code",
     "collapsed": false,
     "input": [
      "print exec_list"
     ],
     "language": "python",
     "metadata": {},
     "outputs": [
      {
       "output_type": "stream",
       "stream": "stdout",
       "text": [
        "[2036.659999847412, 2793.319999933243]\n"
       ]
      }
     ],
     "prompt_number": 122
    },
    {
     "cell_type": "code",
     "collapsed": false,
     "input": [
      "1446527198.1\n",
      "1446527649.86\n",
      "1446527398.69\n",
      "1446527845.4\n"
     ],
     "language": "python",
     "metadata": {},
     "outputs": [
      {
       "output_type": "stream",
       "stream": "stdout",
       "text": [
        "17.404189\n"
       ]
      }
     ],
     "prompt_number": 30
    },
    {
     "cell_type": "code",
     "collapsed": false,
     "input": [
      "print data"
     ],
     "language": "python",
     "metadata": {},
     "outputs": [
      {
       "output_type": "stream",
       "stream": "stdout",
       "text": [
        "[2757.6900000572205, 34.822500169277191]\n"
       ]
      }
     ],
     "prompt_number": 46
    },
    {
     "cell_type": "code",
     "collapsed": false,
     "input": [],
     "language": "python",
     "metadata": {},
     "outputs": []
    }
   ],
   "metadata": {}
  }
 ]
}